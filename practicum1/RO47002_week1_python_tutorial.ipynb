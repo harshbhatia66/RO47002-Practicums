{
 "cells": [
  {
   "cell_type": "markdown",
   "metadata": {},
   "source": [
    "# RO47002 Machine Learning for Robotics\n",
    "* (c) TU Delft, 2024\n",
    "* Period: 2024-2025, Q1\n",
    "* Course homepage: https://brightspace.tudelft.nl/d2l/home/682421"
   ]
  },
  {
   "cell_type": "markdown",
   "metadata": {},
   "source": [
    "Make sure you fill in any place that says `YOUR CODE HERE` or `YOUR ANSWER HERE`. Moreover, if you see an empty cell, please DO NOT delete it, instead run that cell as you would run all other cells. Please fill in your name(s) and other required details below:"
   ]
  },
  {
   "cell_type": "code",
   "execution_count": 42,
   "metadata": {},
   "outputs": [],
   "source": [
    "GROUP_NUMBER = \"\"\n",
    "STUDENT_NAME1 = \"\"\n",
    "STUDENT_NUMBER1 = \"\"\n",
    "STUDENT_NAME2 = \"\"\n",
    "STUDENT_NUMBER2 = \"\""
   ]
  },
  {
   "cell_type": "code",
   "execution_count": 43,
   "metadata": {
    "deletable": false,
    "editable": false,
    "nbgrader": {
     "cell_type": "code",
     "checksum": "e3f76d6a626db81c484191482b101edb",
     "grade": true,
     "grade_id": "cell-c35e4c8223095209",
     "locked": true,
     "points": 0,
     "schema_version": 3,
     "solution": false,
     "task": false
    }
   },
   "outputs": [
    {
     "ename": "AssertionError",
     "evalue": "",
     "output_type": "error",
     "traceback": [
      "\u001b[0;31m---------------------------------------------------------------------------\u001b[0m",
      "\u001b[0;31mAssertionError\u001b[0m                            Traceback (most recent call last)",
      "Cell \u001b[0;32mIn[43], line 3\u001b[0m\n\u001b[1;32m      1\u001b[0m \u001b[38;5;66;03m# Note: this block is a check that you have filled in the above information.\u001b[39;00m\n\u001b[1;32m      2\u001b[0m \u001b[38;5;66;03m# It will throw an AssertionError until all fields are filled\u001b[39;00m\n\u001b[0;32m----> 3\u001b[0m \u001b[38;5;28;01massert\u001b[39;00m(GROUP_NUMBER \u001b[38;5;241m!=\u001b[39m \u001b[38;5;124m\"\u001b[39m\u001b[38;5;124m\"\u001b[39m)\n\u001b[1;32m      4\u001b[0m \u001b[38;5;28;01massert\u001b[39;00m(STUDENT_NAME1 \u001b[38;5;241m!=\u001b[39m \u001b[38;5;124m\"\u001b[39m\u001b[38;5;124m\"\u001b[39m)\n\u001b[1;32m      5\u001b[0m \u001b[38;5;28;01massert\u001b[39;00m(STUDENT_NUMBER1 \u001b[38;5;241m!=\u001b[39m \u001b[38;5;124m\"\u001b[39m\u001b[38;5;124m\"\u001b[39m)\n",
      "\u001b[0;31mAssertionError\u001b[0m: "
     ]
    }
   ],
   "source": [
    "# Note: this block is a check that you have filled in the above information.\n",
    "# It will throw an AssertionError until all fields are filled\n",
    "assert(GROUP_NUMBER != \"\")\n",
    "assert(STUDENT_NAME1 != \"\")\n",
    "assert(STUDENT_NUMBER1 != \"\")\n",
    "assert(STUDENT_NAME2 != \"\")\n",
    "assert(STUDENT_NUMBER2 != \"\")"
   ]
  },
  {
   "cell_type": "markdown",
   "metadata": {},
   "source": [
    "### General announcements\n",
    "\n",
    "* Do *not* share your solutions, and do *not* copy solutions from others. By submitting your solutions, you claim that you and your lab partner alone are responsible for this code.\n",
    "\n",
    "* Do *not* email questions directly, since we want to provide everybody with the same information and avoid repeating the same answers. Instead, please post your questions regarding this assignment in the correct support forum on Brightspace, this way everybody can benefit from the response. If you do have a particular question that you want to ask directly, please use the scheduled practicum hours to ask a TA.\n",
    "\n",
    "* There is a strict deadline for each assignment. Students are responsible to ensure that they have uploaded their work in time. So, please double check that your upload succeeded to the Brightspace and avoid any late penalties.\n",
    "\n",
    "* This [Jupyter notebook](https://jupyter.org/) uses `nbgrader` to help us with automated tests. `nbgrader` will make various cells in this notebook \"uneditable\" or \"unremovable\" and gives them a special id in the cell metadata. This way, when we run our checks, the system will check the existence of the cell ids and verify the number of points and which checks must be run. While there are ways that you can edit the metadata and work around the restrictions to delete or modify these special cells, you should not do that since then our nbgrader backend will not be able to parse your notebook and give you points for the assignment. You are free to add additional cells, but if you find a cell that you cannot modify or remove, please know that this is on purpose.\n",
    "\n",
    "* This notebook will have in various places a line that throws a `NotImplementedError` exception. These are locations where the assignment requires you to adapt the code! These lines are just there as a reminder for youthat you have not yet adapted that particular piece of code, especially when you execute all the cells. Once your solution code replaced these lines, it should accordingly *not* throw any exceptions anymore.\n",
    "\n",
    "Before you turn this problem in, make sure everything runs as expected. First, **restart the kernel** (in the menubar, select Kernel$\\rightarrow$Restart) and then **run all cells** (in the menubar, select Cell$\\rightarrow$Run All)."
   ]
  },
  {
   "cell_type": "markdown",
   "metadata": {},
   "source": [
    "---"
   ]
  },
  {
   "cell_type": "markdown",
   "metadata": {
    "deletable": false,
    "editable": false,
    "nbgrader": {
     "cell_type": "markdown",
     "checksum": "72f47274bdf77e780a09b1df840e9a27",
     "grade": false,
     "grade_id": "cell-d8fe20cb21ac2928",
     "locked": true,
     "schema_version": 3,
     "solution": false,
     "task": false
    }
   },
   "source": [
    "# Practicum 1\n",
    "* **Topic**: core python, numpy, matplotlib\n",
    "* Before performing this practicum, work through **Book chapter(s): Preface & 1**\n",
    "* **Deadline**: Monday, September 9, 2024, 23:59\n",
    "\n",
    "## Objectives\n",
    "\n",
    "The goal of this practicum is to introduce key concepts in python. The tutorial will also cover a few basic usage examples of the popular `numpy` and `matplotlib` python libraries. Python and these libraries will be used extensively through the later practicum assignments.\n",
    "\n",
    "This tutorial is intended to be self contained, but cannot cover all topics in depth. It therefore mostly serves as a starting point for you to explore, and to refresh your existing programming knowledge. If after or during this practicum you wish to learn more about these subjects, feel free to checkout the official resources:\n",
    "\n",
    "* [Python tutorial](https://docs.python.org/3/tutorial/)\n",
    "* [Learnpython.org tutorial](https://www.learnpython.org/)\n",
    "* [Official Numpy user guide](https://numpy.org/doc/stable/user/)\n",
    "* [Official Matplotlib tutorials](https://matplotlib.org/stable/tutorials/index.html)\n"
   ]
  },
  {
   "cell_type": "markdown",
   "metadata": {
    "deletable": false,
    "editable": false,
    "nbgrader": {
     "cell_type": "markdown",
     "checksum": "2e6dd84c2ca917e67f8521552a89ff24",
     "grade": false,
     "grade_id": "cell-692065a70d4a185a",
     "locked": true,
     "schema_version": 3,
     "solution": false,
     "task": false
    }
   },
   "source": [
    "# 1. Python\n",
    "Python is a high-level, dynamically typed multiparadigm programming language. Python code is often said to be almost like pseudocode, since it allows you to express very powerful ideas in very few lines of code while being very readable.\n",
    "\n",
    "\n",
    "## 1.1 Basic data types\n",
    "\n",
    "Like most languages, Python has a number of basic types including integers, floats, booleans, and strings. These data types behave in ways that are familiar from other programming languages.\n",
    "\n",
    "### 1.1.1 Numbers\n",
    "Integers and floats work as you would expect from other languages:"
   ]
  },
  {
   "cell_type": "code",
   "execution_count": null,
   "metadata": {},
   "outputs": [
    {
     "name": "stdout",
     "output_type": "stream",
     "text": [
      "3\n",
      "Type of x is:  <class 'int'>\n",
      "3.5\n",
      "Type of y is:  <class 'float'>\n"
     ]
    }
   ],
   "source": [
    "x = 3\n",
    "y = 3.5\n",
    "\n",
    "print(x)\n",
    "print(\"Type of x is: \", type(x))\n",
    "print(y)\n",
    "print(\"Type of y is: \", type(y))"
   ]
  },
  {
   "cell_type": "markdown",
   "metadata": {
    "deletable": false,
    "editable": false,
    "nbgrader": {
     "cell_type": "markdown",
     "checksum": "06582da6433737442122937c7762224e",
     "grade": false,
     "grade_id": "cell-eff6677736343a45",
     "locked": true,
     "schema_version": 3,
     "solution": false,
     "task": false
    }
   },
   "source": [
    "Common mathematical operations are:\n",
    "\n",
    "Addition: $a+b$ := `a + b` <br />\n",
    "Subtraction: $a-b$ := `a - b` <br />\n",
    "Division: $a\\div b$ := `a / b` <br />\n",
    "Multiplication: $a\\times b$ := `a * b` <br />\n",
    "Power: $a^b$ := `a ** b` <br />\n",
    "\n",
    "Note: the symbol `:=` is the equal by definition sign."
   ]
  },
  {
   "cell_type": "code",
   "execution_count": null,
   "metadata": {},
   "outputs": [
    {
     "name": "stdout",
     "output_type": "stream",
     "text": [
      "1 6 9\n"
     ]
    }
   ],
   "source": [
    "print(x + 1 - 3, x * 2, x ** 2)"
   ]
  },
  {
   "cell_type": "code",
   "execution_count": null,
   "metadata": {},
   "outputs": [
    {
     "name": "stdout",
     "output_type": "stream",
     "text": [
      "1.5 7.0 12.25\n"
     ]
    }
   ],
   "source": [
    "print(y + 1 -3, y * 2, y ** 2)"
   ]
  },
  {
   "cell_type": "markdown",
   "metadata": {
    "deletable": false,
    "editable": false,
    "nbgrader": {
     "cell_type": "markdown",
     "checksum": "631d6b8defe83061e23d54088f2e950b",
     "grade": false,
     "grade_id": "cell-f8074d383d2a3587",
     "locked": true,
     "schema_version": 3,
     "solution": false,
     "task": false
    }
   },
   "source": [
    "# 2. Functions\n",
    "Python functions are defined using the `def` keyword. For example:\n",
    "```python\n",
    "    def is_positive(x):\n",
    "        if x > 0:\n",
    "            return True\n",
    "        else:\n",
    "            return False\n",
    "```\n",
    "            \n",
    "For more information, see the [documentaion](https://docs.python.org/3.5/tutorial/controlflow.html#defining-functions).\n",
    "\n",
    "**Exercise:**\n",
    "\n",
    "Create a function called `is_negative` that returns True if a number is negative. \n",
    "\n",
    "Print the output of this function when `x=0.2` and `x=-0.4`. Do not forget to write this function first in your code."
   ]
  },
  {
   "cell_type": "code",
   "execution_count": null,
   "metadata": {
    "deletable": false,
    "nbgrader": {
     "cell_type": "code",
     "checksum": "22969ab4930faa113f5450aa8c4374e7",
     "grade": false,
     "grade_id": "cell-7b160761c3d5b08b",
     "locked": false,
     "schema_version": 3,
     "solution": true,
     "task": false
    }
   },
   "outputs": [],
   "source": [
    "# YOUR CODE HERE\n",
    "raise NotImplementedError()"
   ]
  },
  {
   "cell_type": "code",
   "execution_count": null,
   "metadata": {
    "deletable": false,
    "editable": false,
    "nbgrader": {
     "cell_type": "code",
     "checksum": "50d36f9058c418c293bd974680a62bb3",
     "grade": true,
     "grade_id": "cell-bd726247a02eec4e",
     "locked": true,
     "points": 0.5,
     "schema_version": 3,
     "solution": false,
     "task": false
    }
   },
   "outputs": [],
   "source": [
    "# Do not remove this cell, we have hidden tests here"
   ]
  },
  {
   "cell_type": "markdown",
   "metadata": {
    "deletable": false,
    "editable": false,
    "nbgrader": {
     "cell_type": "markdown",
     "checksum": "fa93a8cc91b989bbf8add196a1320079",
     "grade": false,
     "grade_id": "cell-230a3cd1657b9c95",
     "locked": true,
     "schema_version": 3,
     "solution": false,
     "task": false
    }
   },
   "source": [
    "We will often define functions to take optional keyword arguments, like this:"
   ]
  },
  {
   "cell_type": "code",
   "execution_count": null,
   "metadata": {},
   "outputs": [],
   "source": [
    "def hello(name, loud=False):\n",
    "    if loud:\n",
    "        print('HELLO, %s!' % name.upper())\n",
    "    else:\n",
    "        print('Hello, %s' % name)\n",
    "\n",
    "hello('Bob') # Prints \"Hello, Bob\"\n",
    "hello('Fred', loud=True)  # Prints \"HELLO, FRED!\""
   ]
  },
  {
   "cell_type": "markdown",
   "metadata": {
    "deletable": false,
    "editable": false,
    "nbgrader": {
     "cell_type": "markdown",
     "checksum": "ed17c807fbb7941ec6c0157f8ebec04c",
     "grade": false,
     "grade_id": "cell-41ce23bd9f2fd741",
     "locked": true,
     "schema_version": 3,
     "solution": false,
     "task": false
    }
   },
   "source": [
    "## 2.1 Booleans and logical operations\n",
    "Python implements all of the usual operators for Boolean logic, but uses English words e.g., <strong>and</strong>, <strong>or</strong>, <strong>not</strong> rather than symbols.\n",
    "\n",
    "Some examples are as follows:\n",
    "\n",
    "Logical **AND**: $a \\land b$ := `a and b` <br />\n",
    "Logical **OR** : $a \\lor b$ := `a or b` <br />\n",
    "Logical **NOT**: $\\lnot a$ := `not a` <br />\n",
    "Logical **XOR**: $a \\oplus b$ := `a != b` </code> <br />"
   ]
  },
  {
   "cell_type": "code",
   "execution_count": null,
   "metadata": {},
   "outputs": [
    {
     "name": "stdout",
     "output_type": "stream",
     "text": [
      "Type of a is <class 'bool'> and type of b is <class 'bool'>.\n"
     ]
    }
   ],
   "source": [
    "a = True\n",
    "b = False\n",
    "\n",
    "print(\"Type of a is {} and type of b is {}.\".format(type(a), type(b)))"
   ]
  },
  {
   "cell_type": "markdown",
   "metadata": {
    "deletable": false,
    "editable": false,
    "nbgrader": {
     "cell_type": "markdown",
     "checksum": "d39a3b913ba63987094ec59ead0e4641",
     "grade": false,
     "grade_id": "cell-42e55ed06926b8da",
     "locked": true,
     "schema_version": 3,
     "solution": false,
     "task": false
    }
   },
   "source": [
    "**Exercise:**\n",
    "Perform logical operations between <strong>a</strong> and <strong>b</strong>."
   ]
  },
  {
   "cell_type": "code",
   "execution_count": null,
   "metadata": {
    "deletable": false,
    "nbgrader": {
     "cell_type": "code",
     "checksum": "938ad76495989b46e25cd48b00e8697d",
     "grade": false,
     "grade_id": "cell-42e55ed06926b8db",
     "locked": false,
     "schema_version": 3,
     "solution": true,
     "task": false
    }
   },
   "outputs": [],
   "source": [
    "def logical_AND(a, b):\n",
    "    # YOUR CODE HERE\n",
    "    raise NotImplementedError()\n",
    "    return output\n",
    "\n",
    "def logical_OR(a, b):\n",
    "    # YOUR CODE HERE\n",
    "    raise NotImplementedError()\n",
    "    return output\n",
    "\n",
    "def logical_NOT(a):\n",
    "    # YOUR CODE HERE\n",
    "    raise NotImplementedError()\n",
    "    return output\n",
    "\n",
    "def logical_XOR(a, b):\n",
    "    # YOUR CODE HERE\n",
    "    raise NotImplementedError()\n",
    "    return output"
   ]
  },
  {
   "cell_type": "code",
   "execution_count": null,
   "metadata": {},
   "outputs": [],
   "source": [
    "print(logical_AND(a,b))\n",
    "print(logical_OR(a,b))\n",
    "print(logical_NOT(a))\n",
    "print(logical_XOR(a,b))"
   ]
  },
  {
   "cell_type": "code",
   "execution_count": null,
   "metadata": {
    "deletable": false,
    "editable": false,
    "nbgrader": {
     "cell_type": "code",
     "checksum": "f674027b018872e8f030491d2c5cd3bc",
     "grade": true,
     "grade_id": "cell-66e7d270b501202a",
     "locked": true,
     "points": 1,
     "schema_version": 3,
     "solution": false,
     "task": false
    }
   },
   "outputs": [],
   "source": [
    "assert logical_AND(True, False) == False\n",
    "assert logical_OR(False, True) == True\n",
    "assert logical_NOT(True) == False\n",
    "assert logical_XOR(True, True) == False\n"
   ]
  },
  {
   "cell_type": "markdown",
   "metadata": {
    "deletable": false,
    "editable": false,
    "nbgrader": {
     "cell_type": "markdown",
     "checksum": "4e236db4e50ea040187159dfbdadf49b",
     "grade": false,
     "grade_id": "cell-5906fd44cbfe3ba7",
     "locked": true,
     "schema_version": 3,
     "solution": false,
     "task": false
    }
   },
   "source": [
    "**Exercise:**\n",
    "Implement XNOR between two booleans `a` and `b` ($a \\odot b$) and save the `output` in output variable:"
   ]
  },
  {
   "cell_type": "code",
   "execution_count": null,
   "metadata": {
    "deletable": false,
    "nbgrader": {
     "cell_type": "code",
     "checksum": "5f57febdacbe9470be291ea7c7d7e304",
     "grade": false,
     "grade_id": "cell-fd541367faa71c44",
     "locked": false,
     "schema_version": 3,
     "solution": true,
     "task": false
    }
   },
   "outputs": [],
   "source": [
    "def xnor(a, b):\n",
    "    # YOUR CODE HERE\n",
    "    raise NotImplementedError()\n",
    "    return output"
   ]
  },
  {
   "cell_type": "code",
   "execution_count": null,
   "metadata": {},
   "outputs": [],
   "source": [
    "print(xnor(False, True))"
   ]
  },
  {
   "cell_type": "code",
   "execution_count": null,
   "metadata": {
    "deletable": false,
    "editable": false,
    "nbgrader": {
     "cell_type": "code",
     "checksum": "f65a8eb42812defe4b0aa833ae213761",
     "grade": true,
     "grade_id": "cell-4e4acf4752814f0c",
     "locked": true,
     "points": 0.5,
     "schema_version": 3,
     "solution": false,
     "task": false
    }
   },
   "outputs": [],
   "source": [
    "assert xnor(True, False) == False"
   ]
  },
  {
   "cell_type": "markdown",
   "metadata": {
    "deletable": false,
    "editable": false,
    "nbgrader": {
     "cell_type": "markdown",
     "checksum": "d96d3d76a1a92b00562fe8ff163af4e8",
     "grade": false,
     "grade_id": "cell-70fc57561c3142a9",
     "locked": true,
     "schema_version": 3,
     "solution": false,
     "task": false
    }
   },
   "source": [
    "## 2.2 Strings"
   ]
  },
  {
   "cell_type": "code",
   "execution_count": null,
   "metadata": {},
   "outputs": [],
   "source": [
    "foo = 'foo' # Single quotes can be used for String literals\n",
    "bar = \"bar\" # or double quotes\n",
    "print(foo)\n",
    "print(len(bar)) # String length"
   ]
  },
  {
   "cell_type": "code",
   "execution_count": null,
   "metadata": {},
   "outputs": [],
   "source": [
    "foo_bar = foo + ' ' + bar # String concatenation\n",
    "print(foo_bar)"
   ]
  },
  {
   "cell_type": "code",
   "execution_count": null,
   "metadata": {},
   "outputs": [],
   "source": [
    "foo_bar10 = '%s %s %d' % (foo, bar, 10) # sprintf style string formatting\n",
    "print(foo_bar10)"
   ]
  },
  {
   "cell_type": "markdown",
   "metadata": {
    "deletable": false,
    "editable": false,
    "nbgrader": {
     "cell_type": "markdown",
     "checksum": "252eb81302c118631815957410a5b1e5",
     "grade": false,
     "grade_id": "cell-1174450421b019fe",
     "locked": true,
     "schema_version": 3,
     "solution": false,
     "task": false
    }
   },
   "source": [
    "### 2.2.1 Methods of String object"
   ]
  },
  {
   "cell_type": "code",
   "execution_count": null,
   "metadata": {},
   "outputs": [],
   "source": [
    "s = 'hello'\n",
    "print(s.capitalize())\n",
    "print(s.upper())\n",
    "print(s.rjust(7))\n",
    "print(s.center(7))\n",
    "print(s.replace('l', '(ell)'))\n",
    "\n",
    "print('  world '.strip()) # strip leading and trailing whitespaces, prints \"world\""
   ]
  },
  {
   "cell_type": "markdown",
   "metadata": {},
   "source": [
    "## 2.3 Containers\n",
    "Python includes several built-in container types: lists, dictionaries, sets, and tuples\n",
    "\n",
    "### 2.3.1 Lists\n",
    "A list is the Python equivalent of an array, but is resizeable and can contain elements of different types:\n",
    "\n",
    "A list containing 3 elements can be created simply as: \n",
    "\n",
    "```python\n",
    "    sample_list = [3, 6, 2]\n",
    "```\n",
    "    \n",
    "Indexing of the list starts from $0$ (zero). `sample_list[1]` is then equal to $6$ here. A list can be indexed from the end as well using negative indices e.g., `sample_list[-1]` which is equal to $2$ here.\n",
    "\n",
    "Lists may contain elements of different types e.g., `sample_list[2] = 'hello'`. Now the elements of this list would become: `[3, 6, 'hello']`.\n",
    "\n",
    "Elements can be added (appended) in to the lists e.g., `sample_list.append('world')` which appends 'world' in the end of the list making it a $4$ elements list now. Moreover, elements can be popped out of the list e.g., `last_elem = sample_list.pop()` would save last element 'world' in `last_elem` variable.\n",
    " \n",
    "**Exercise:**\n",
    "\n",
    "Perform (in order)\n",
    "* get the first element\n",
    "* add 'CoR' to the list\n",
    "* get the last element using the [pop](https://www.learnbyexample.org/python-list-pop-method/) method\n",
    "* retrun the first element, last element and the modified list\n",
    "\n",
    "on the list `sample_list` we created.\n",
    "\n",
    "<!-- Perform the above mentioned opeartions on the list we created and print the output of each operation. -->"
   ]
  },
  {
   "cell_type": "code",
   "execution_count": null,
   "metadata": {
    "deletable": false,
    "editable": false,
    "nbgrader": {
     "cell_type": "code",
     "checksum": "1674e7c20461451c4ce1c04039d4cf50",
     "grade": false,
     "grade_id": "cell-583eed57eec97787",
     "locked": true,
     "schema_version": 3,
     "solution": false,
     "task": false
    }
   },
   "outputs": [],
   "source": [
    "sample_list = [6, 2, 3] "
   ]
  },
  {
   "cell_type": "code",
   "execution_count": null,
   "metadata": {
    "deletable": false,
    "nbgrader": {
     "cell_type": "code",
     "checksum": "1be9cbee75c62d0f5eafa0105d61a99c",
     "grade": false,
     "grade_id": "cell-40bdfad50d6f22ff",
     "locked": false,
     "schema_version": 3,
     "solution": true,
     "task": false
    }
   },
   "outputs": [],
   "source": [
    "def container(sample_list):\n",
    "    # YOUR CODE HERE\n",
    "    raise NotImplementedError()\n",
    "    return first_element, last_element, sample_list"
   ]
  },
  {
   "cell_type": "code",
   "execution_count": null,
   "metadata": {},
   "outputs": [],
   "source": [
    "first_element, last_element, sample_list = container(sample_list)"
   ]
  },
  {
   "cell_type": "code",
   "execution_count": null,
   "metadata": {
    "deletable": false,
    "editable": false,
    "nbgrader": {
     "cell_type": "code",
     "checksum": "eb104268e51ac53dd874ed767ef75503",
     "grade": true,
     "grade_id": "cell-2e776b8c2b53e86f",
     "locked": true,
     "points": 0.5,
     "schema_version": 3,
     "solution": false,
     "task": false
    }
   },
   "outputs": [],
   "source": [
    "# Do not remove this cell, we have hidden tests here"
   ]
  },
  {
   "cell_type": "markdown",
   "metadata": {
    "deletable": false,
    "editable": false,
    "nbgrader": {
     "cell_type": "markdown",
     "checksum": "db31449334eedceaa23f58e007246fc2",
     "grade": false,
     "grade_id": "cell-3418e8a232246f4f",
     "locked": true,
     "schema_version": 3,
     "solution": false,
     "task": false
    }
   },
   "source": [
    "## 2.4 Slicing\n",
    "\n",
    "In addition to accessing list elements one at a time, Python provides concise syntax to access sublists; this is known as **slicing**.\n",
    "\n",
    "To exercise this, we can create a list by using command `range(int)` e.g., `nums = list(range(5))` which gives us a list with elements `[0, 1, 2, 3, 4]`. To get elements from index 2 to 4 **(exclusive)**, we can write `nums[2:4]` which should give us `[2, 3]` in this case.\n",
    "\n",
    "To get a *slice* from index 2 to the end, we write `nums[2:]`. Similarly for a *slice* from the start to index 2 **(exclusiv)**, we write `nums[:2]`. And to *slice* the whole list, we write `nums[:]`.\n",
    "    \n",
    "**Slicing** can be performed with negative indices as well e.g., `nums[:-2]` will give us all elements from the list ignoring only the last two element (in this case `[0, 1, 2]`.\n",
    "\n",
    "**Exercise:**\n",
    "\n",
    "Perform (in order)\n",
    "* Get a slice from index 2 to 4 **(exclusive)**\n",
    "* Get a slice from the start to index 2 **(exclusive)**\n",
    "* replace index from 5 to 7 **(excluding 7)** with `[1, 2]`\n",
    "* retrun the results of step 1, 2 and the modified list (in order)\n",
    "\n",
    "on the list `nums` we created"
   ]
  },
  {
   "cell_type": "code",
   "execution_count": null,
   "metadata": {
    "deletable": false,
    "editable": false,
    "nbgrader": {
     "cell_type": "code",
     "checksum": "c2227d74b98a873dd47eebe3d114fefb",
     "grade": false,
     "grade_id": "cell-c857ed5e93d8aa81",
     "locked": true,
     "schema_version": 3,
     "solution": false,
     "task": false
    }
   },
   "outputs": [],
   "source": [
    "nums = list(range(8))     # range is a built-in function that creates a list of integers"
   ]
  },
  {
   "cell_type": "code",
   "execution_count": null,
   "metadata": {
    "deletable": false,
    "nbgrader": {
     "cell_type": "code",
     "checksum": "d663331105d3ca92014d54f2eccebdbb",
     "grade": false,
     "grade_id": "cell-0567306e5255ae77",
     "locked": false,
     "schema_version": 3,
     "solution": true,
     "task": false
    }
   },
   "outputs": [],
   "source": [
    "def slicing(nums):\n",
    "    # YOUR CODE HERE\n",
    "    raise NotImplementedError()\n",
    "    return a, b, nums"
   ]
  },
  {
   "cell_type": "code",
   "execution_count": null,
   "metadata": {
    "deletable": false,
    "editable": false,
    "nbgrader": {
     "cell_type": "code",
     "checksum": "6a4fe7a263b3c3cdb8d36e9169ed036a",
     "grade": false,
     "grade_id": "cell-3f4b3a9c4d25ac10",
     "locked": true,
     "schema_version": 3,
     "solution": false,
     "task": false
    }
   },
   "outputs": [],
   "source": [
    "a, b, nums = slicing(nums)"
   ]
  },
  {
   "cell_type": "code",
   "execution_count": null,
   "metadata": {
    "deletable": false,
    "editable": false,
    "nbgrader": {
     "cell_type": "code",
     "checksum": "26ea8ea9d646a94b95d5154222478121",
     "grade": true,
     "grade_id": "cell-c45e27bccfbe7870",
     "locked": true,
     "points": 0.5,
     "schema_version": 3,
     "solution": false,
     "task": false
    }
   },
   "outputs": [],
   "source": [
    "# Do not remove this cell, we have hidden tests here"
   ]
  },
  {
   "cell_type": "markdown",
   "metadata": {
    "deletable": false,
    "editable": false,
    "nbgrader": {
     "cell_type": "markdown",
     "checksum": "8a5ef88b0892afa60014b76060873ec0",
     "grade": false,
     "grade_id": "cell-2087c7b344d12524",
     "locked": true,
     "schema_version": 3,
     "solution": false,
     "task": false
    }
   },
   "source": [
    "## 2.5 Loops\n",
    "You can loop over the elements of a list like this:\n",
    "```python\n",
    "    sample_list = ['element A', 'element B', 'element C', 'element D'] \n",
    "    for element in sample_list: \n",
    "        print(element) \n",
    "```\n"
   ]
  },
  {
   "cell_type": "markdown",
   "metadata": {
    "deletable": false,
    "editable": false,
    "nbgrader": {
     "cell_type": "markdown",
     "checksum": "c53e699c8cc68e797cdabc751ffdc374",
     "grade": false,
     "grade_id": "cell-1fc79ee7d4f787fc",
     "locked": true,
     "schema_version": 3,
     "solution": false,
     "task": false
    }
   },
   "source": [
    "If you want access to the index of each element within the body of a loop, use the built-in enumerate function: \n",
    "```python\n",
    "    sample_list = ['element A', 'element B', 'element C', 'element D'] \n",
    "    for idx, element in enumerate(sample_list): \n",
    "        print('#%d: %s' % (idx + 1, element)) \n",
    "```\n",
    "This will print:\n",
    "```shell\n",
    "    #1: element A\n",
    "    #2: element B\n",
    "    #3: element C\n",
    "    #4: element D\n",
    "```\n"
   ]
  },
  {
   "cell_type": "markdown",
   "metadata": {
    "deletable": false,
    "editable": false,
    "nbgrader": {
     "cell_type": "markdown",
     "checksum": "fc2fc4309b1db5d498cbe54e003141d9",
     "grade": false,
     "grade_id": "cell-8c1d2caed753031e",
     "locked": true,
     "schema_version": 3,
     "solution": false,
     "task": false
    }
   },
   "source": [
    "## 2.6 List Comprehension\n",
    "When programming, frequently we want to transform one type of data into another. As a simple example, consider the following code that computes square numbers:\n",
    "```python\n",
    "    nums = [0, 1, 2, 3, 4]\n",
    "    squares = []\n",
    "    for x in nums:\n",
    "        squares.append(x ** 2)\n",
    "```\n",
    "This prints `[0, 1, 4, 9, 16]`. With the use of list comprehension, this can be written as: `squares = [x ** 2 for x in nums]`.\n",
    "\n",
    "List comprehensions can also contain conditions e.g., `even_squares = [x ** 2 for x in nums if x % 2 == 0]`.\n"
   ]
  },
  {
   "cell_type": "code",
   "execution_count": null,
   "metadata": {
    "deletable": false,
    "editable": false,
    "nbgrader": {
     "cell_type": "code",
     "checksum": "bb679b8917c4f7f7b9d5d1355c78100a",
     "grade": false,
     "grade_id": "cell-c1f04b85b559e0f3",
     "locked": true,
     "schema_version": 3,
     "solution": false,
     "task": false
    }
   },
   "outputs": [],
   "source": [
    "nums = list(range(5))"
   ]
  },
  {
   "cell_type": "markdown",
   "metadata": {
    "deletable": false,
    "editable": false,
    "nbgrader": {
     "cell_type": "markdown",
     "checksum": "8dd4b162eaae964267999130f56ab6f4",
     "grade": false,
     "grade_id": "cell-ab86fb0d66477487",
     "locked": true,
     "schema_version": 3,
     "solution": false,
     "task": false
    }
   },
   "source": [
    "**Exercise:**\n",
    "Define a function that squares all elements in an input list"
   ]
  },
  {
   "cell_type": "code",
   "execution_count": null,
   "metadata": {
    "deletable": false,
    "nbgrader": {
     "cell_type": "code",
     "checksum": "8670d6965de1bdb2afd872165555d378",
     "grade": false,
     "grade_id": "cell-f08a27b89def260c",
     "locked": false,
     "schema_version": 3,
     "solution": true,
     "task": false
    }
   },
   "outputs": [],
   "source": [
    "def list_square(nums):\n",
    "    # YOUR CODE HERE\n",
    "    raise NotImplementedError()"
   ]
  },
  {
   "cell_type": "markdown",
   "metadata": {
    "deletable": false,
    "editable": false,
    "nbgrader": {
     "cell_type": "markdown",
     "checksum": "e9dbce39e9238b5d137b53dea2dc543c",
     "grade": false,
     "grade_id": "cell-f07d5237fbd49d61",
     "locked": true,
     "schema_version": 3,
     "solution": false,
     "task": false
    }
   },
   "source": [
    "**Exercise:**\n",
    "Define a function that squares all elements with an even index (index: 0, 2, 4) in an input list. The resulting list should only contain the elements that have been squared."
   ]
  },
  {
   "cell_type": "code",
   "execution_count": null,
   "metadata": {
    "deletable": false,
    "nbgrader": {
     "cell_type": "code",
     "checksum": "d31dfe2df5fb982dae8498bbaad1cc88",
     "grade": false,
     "grade_id": "cell-f0dbd00b4db1776f",
     "locked": false,
     "schema_version": 3,
     "solution": true,
     "task": false
    }
   },
   "outputs": [],
   "source": [
    "def list_square_even_index(nums):\n",
    "    # YOUR CODE HERE\n",
    "    raise NotImplementedError()"
   ]
  },
  {
   "cell_type": "code",
   "execution_count": null,
   "metadata": {
    "deletable": false,
    "editable": false,
    "nbgrader": {
     "cell_type": "code",
     "checksum": "5e5b7f49820fdddbd1f147c5f31fe280",
     "grade": false,
     "grade_id": "cell-6bee5ea30103adcb",
     "locked": true,
     "schema_version": 3,
     "solution": false,
     "task": false
    }
   },
   "outputs": [],
   "source": [
    "squares = list_square(nums)\n",
    "even_squares = list_square_even_index(nums)"
   ]
  },
  {
   "cell_type": "code",
   "execution_count": null,
   "metadata": {
    "deletable": false,
    "editable": false,
    "nbgrader": {
     "cell_type": "code",
     "checksum": "85130ca43cd0d3f563377e8788ef5b3b",
     "grade": true,
     "grade_id": "cell-bfb2191f5fcc1533",
     "locked": true,
     "points": 0.5,
     "schema_version": 3,
     "solution": false,
     "task": false
    }
   },
   "outputs": [],
   "source": [
    "# Do not remove this cell, we have hidden tests here\n",
    "assert isinstance(squares, list) and squares != nums\n",
    "assert isinstance(even_squares, list) and even_squares != nums\n"
   ]
  },
  {
   "cell_type": "markdown",
   "metadata": {
    "deletable": false,
    "editable": false,
    "nbgrader": {
     "cell_type": "markdown",
     "checksum": "bc114b0a3ff1027823c58e0cbe8c2799",
     "grade": false,
     "grade_id": "cell-dcfb89cac64103a1",
     "locked": true,
     "schema_version": 3,
     "solution": false,
     "task": false
    }
   },
   "source": [
    "# 3. Dictionaries\n",
    "A dictionary stores (key, value) pairs. Please refer to this [link](https://docs.python.org/3.5/library/stdtypes.html#dict) for details. We can create a dictionary as `d = {'cat': 'cute', 'dog': 'furry'}`. To check if a dictionary has a given key, we write `print('cat' in d)`. A new entry can be set in the dictionary as `d['fish'] = 'wet'`. To get an element with a default, write `print(d.get('monkey', 'N/A'))`; this should print `N/A` as \"monkey\" is not a key of\n",
    "`d`. To remove an element from a dictionary, we write `del d['fish']`.\n",
    "\n",
    "**Exercise:**\n",
    "\n",
    "Perform (in order):\n",
    "* Get the value of the key 'cat', and store the result in `a`\n",
    "* Check if a dictionary has the key 'Rabbit', and store the result **(Boolean)** in `b`\n",
    "* Set a new entry with key 'fish' and value 'wet' in the dictionary\n",
    "* delete the key 'dog'\n",
    "* return the results of step 1, 2 and the modified list (in order)\n",
    "\n",
    "on the dict `d` we created"
   ]
  },
  {
   "cell_type": "code",
   "execution_count": 46,
   "metadata": {
    "deletable": false,
    "editable": false,
    "nbgrader": {
     "cell_type": "code",
     "checksum": "05d6f7a49273f2adc29148520667715c",
     "grade": false,
     "grade_id": "cell-c16a643544f49ea0",
     "locked": true,
     "schema_version": 3,
     "solution": false,
     "task": false
    }
   },
   "outputs": [],
   "source": [
    "d = {'cat': 'cute', 'dog': 'furry'}"
   ]
  },
  {
   "cell_type": "code",
   "execution_count": 47,
   "metadata": {
    "deletable": false,
    "nbgrader": {
     "cell_type": "code",
     "checksum": "5f48cae1a2445eed8ebaae57caa5c05b",
     "grade": false,
     "grade_id": "cell-979c194416d1433f",
     "locked": false,
     "schema_version": 3,
     "solution": true,
     "task": false
    }
   },
   "outputs": [],
   "source": [
    "def dict_operation(d):\n",
    "    a = 'cat' in d\n",
    "    b = 'Rabbit' in d\n",
    "    d['fish'] = 'wet'\n",
    "    del d['dog']\n",
    "    return a, b, d"
   ]
  },
  {
   "cell_type": "code",
   "execution_count": 48,
   "metadata": {
    "deletable": false,
    "editable": false,
    "nbgrader": {
     "cell_type": "code",
     "checksum": "42ab632bce2ae0d4b22317d5dd188abb",
     "grade": false,
     "grade_id": "cell-57e5105538428c08",
     "locked": true,
     "schema_version": 3,
     "solution": false,
     "task": false
    }
   },
   "outputs": [],
   "source": [
    "a, b, d = dict_operation(d)"
   ]
  },
  {
   "cell_type": "code",
   "execution_count": null,
   "metadata": {
    "deletable": false,
    "editable": false,
    "nbgrader": {
     "cell_type": "code",
     "checksum": "3a99ac8234282d0cc04afe249e73cc34",
     "grade": true,
     "grade_id": "cell-e419b92a993bb5a1",
     "locked": true,
     "points": 0.5,
     "schema_version": 3,
     "solution": false,
     "task": false
    }
   },
   "outputs": [],
   "source": [
    "# Do not remove this cell, we have hidden tests here"
   ]
  },
  {
   "cell_type": "markdown",
   "metadata": {
    "deletable": false,
    "editable": false,
    "nbgrader": {
     "cell_type": "markdown",
     "checksum": "c7cce4a401280ab3fe7d462be6d68802",
     "grade": false,
     "grade_id": "cell-8316211292855e24",
     "locked": true,
     "schema_version": 3,
     "solution": false,
     "task": false
    }
   },
   "source": [
    "## 3.1 Loops\n",
    "It is easy to iterate over the keys in a dictionary. Let say, we have a dictionary <code>d = {'person': 2, 'cat': 4, 'spider': 8}</code>. We can iterate over this dictionary through the following code:\n",
    "```python\n",
    "for animal in d:\n",
    "    legs = d[animal]\n",
    "    print('A %s has %d legs' % (animal, legs))\n",
    "```\n",
    "This will print:\n",
    "```shell\n",
    "    A person has 2 legs\n",
    "    A cat has 4 legs\n",
    "    A spider has 8 legs\n",
    "```\n",
    "**Exercise:**\n",
    "\n",
    "Iterate over the dict <code>d</code> we created and \n",
    "* obtain list containing all the keys \n",
    "* sum up all the values\n",
    "\n",
    "using [items](https://www.learnbyexample.org/python-dictionary-items-method/) method."
   ]
  },
  {
   "cell_type": "code",
   "execution_count": null,
   "metadata": {
    "deletable": false,
    "editable": false,
    "nbgrader": {
     "cell_type": "code",
     "checksum": "0b992acfc644d6efd053d8dd785629bf",
     "grade": false,
     "grade_id": "cell-6ed35dfbf6a00edd",
     "locked": true,
     "schema_version": 3,
     "solution": false,
     "task": false
    }
   },
   "outputs": [],
   "source": [
    "d = {'person': 2.0, 'cat': 4.0, 'spider': 8.0}"
   ]
  },
  {
   "cell_type": "code",
   "execution_count": null,
   "metadata": {
    "deletable": false,
    "nbgrader": {
     "cell_type": "code",
     "checksum": "d6a3b562e19133580b21e9c20cb71d6e",
     "grade": false,
     "grade_id": "cell-738c1794ad8b3e07",
     "locked": false,
     "schema_version": 3,
     "solution": true,
     "task": false
    }
   },
   "outputs": [],
   "source": [
    "def loop_over_dict(d):\n",
    "    value = 0\n",
    "    list_a = []\n",
    "    for animal in d:\n",
    "        list_a.append(animal)\n",
    "        value = value + d[animal]\n",
    "\n",
    "    return list_a, value"
   ]
  },
  {
   "cell_type": "code",
   "execution_count": null,
   "metadata": {
    "deletable": false,
    "editable": false,
    "nbgrader": {
     "cell_type": "code",
     "checksum": "b450499508be7daddec27f589b463443",
     "grade": false,
     "grade_id": "cell-18ff03589ff54d8f",
     "locked": true,
     "schema_version": 3,
     "solution": false,
     "task": false
    }
   },
   "outputs": [],
   "source": [
    "a, b = loop_over_dict(d)"
   ]
  },
  {
   "cell_type": "code",
   "execution_count": null,
   "metadata": {
    "deletable": false,
    "editable": false,
    "nbgrader": {
     "cell_type": "code",
     "checksum": "c33e90d09c07b6617fe7fd4913f167fc",
     "grade": true,
     "grade_id": "cell-5dd73630629803d6",
     "locked": true,
     "points": 0.5,
     "schema_version": 3,
     "solution": false,
     "task": false
    }
   },
   "outputs": [],
   "source": [
    "# Do not remove this cell, we have hidden tests here"
   ]
  },
  {
   "cell_type": "markdown",
   "metadata": {
    "deletable": false,
    "editable": false,
    "nbgrader": {
     "cell_type": "markdown",
     "checksum": "ed0ee4ad3d517b0612ce37b10173472d",
     "grade": false,
     "grade_id": "cell-9c29e89c2fe325ed",
     "locked": true,
     "schema_version": 3,
     "solution": false,
     "task": false
    }
   },
   "source": [
    "## 3.2 Dictionary comprehensions:\n",
    "These are similar to list comprehensions, but allow you to easily construct dictionaries. For example \n",
    "```python\n",
    "    nums = [0, 1, 2, 3, 4]\n",
    "    even_num_to_square = {x: x ** 2 for x in nums if x % 2 == 0}\n",
    "```\n",
    "**Exercise:**\n",
    "In the cell below, use the dictionary comprehension to construct a dictionary, named `letter_count`, where the keys are letters contained in a list and the values are their frequencies. E.g. `letters = ['a', 'b', 'c', 'a', 'a', 'b']`, `letter_count = {'a': 3, 'b': 2, 'c': 1}`."
   ]
  },
  {
   "cell_type": "code",
   "execution_count": null,
   "metadata": {
    "deletable": false,
    "nbgrader": {
     "cell_type": "code",
     "checksum": "db645fc1d7f35c9d93275d3ae29a4e24",
     "grade": false,
     "grade_id": "cell-41611bea1cb143fc",
     "locked": false,
     "schema_version": 3,
     "solution": true,
     "task": false
    }
   },
   "outputs": [
    {
     "name": "stdout",
     "output_type": "stream",
     "text": [
      "{'a': 3, 'b': 2, 'c': 1}\n"
     ]
    }
   ],
   "source": [
    "letters = ['a', 'b', 'c', 'a', 'a', 'b']\n",
    "letter_count = {x: letters.count(x) for x in set(letters)}\n",
    "# Ensure keys are in sorted order\n",
    "letter_count = {k: letter_count[k] for k in sorted(letter_count)}"
   ]
  },
  {
   "cell_type": "code",
   "execution_count": null,
   "metadata": {
    "deletable": false,
    "editable": false,
    "nbgrader": {
     "cell_type": "code",
     "checksum": "1148554fa9dd8dcac6bd6d9121f6e9cd",
     "grade": true,
     "grade_id": "cell-66e205bfdf2947ed",
     "locked": true,
     "points": 0.5,
     "schema_version": 3,
     "solution": false,
     "task": false
    }
   },
   "outputs": [],
   "source": [
    "# Do not remove this cell, we have hidden tests here"
   ]
  },
  {
   "cell_type": "markdown",
   "metadata": {
    "deletable": false,
    "editable": false,
    "nbgrader": {
     "cell_type": "markdown",
     "checksum": "a58c839962e83e305cb202d6c7447fac",
     "grade": false,
     "grade_id": "cell-950644b60c397686",
     "locked": true,
     "schema_version": 3,
     "solution": false,
     "task": false
    }
   },
   "source": [
    "# 4. Sets\n",
    "A set is an unordered collection of distinct elements. The details can be found [here](https://docs.python.org/3.5/library/stdtypes.html#set). As a simple example, consider the following:"
   ]
  },
  {
   "cell_type": "code",
   "execution_count": null,
   "metadata": {},
   "outputs": [
    {
     "name": "stdout",
     "output_type": "stream",
     "text": [
      "True\n",
      "False\n",
      "True\n",
      "3\n",
      "3\n",
      "2\n"
     ]
    }
   ],
   "source": [
    "animals = {'cat', 'dog'}\n",
    "print('cat' in animals)   # Check if an element is in a set; prints \"True\"\n",
    "print('fish' in animals)  # prints \"False\"\n",
    "animals.add('fish')       # Add an element to a set\n",
    "print('fish' in animals)  # Prints \"True\"\n",
    "print(len(animals))       # Number of elements in a set; prints \"3\"\n",
    "animals.add('cat')        # Adding an element that is already in the set does nothing\n",
    "print(len(animals))       # Prints \"3\"\n",
    "animals.remove('cat')     # Remove an element from a set\n",
    "print(len(animals))       # Prints \"2\""
   ]
  },
  {
   "cell_type": "markdown",
   "metadata": {
    "deletable": false,
    "editable": false,
    "nbgrader": {
     "cell_type": "markdown",
     "checksum": "65c5d0e7f2a303a77abd94d6d28f2ade",
     "grade": false,
     "grade_id": "cell-2ad21d1e7a0957aa",
     "locked": true,
     "schema_version": 3,
     "solution": false,
     "task": false
    }
   },
   "source": [
    "## 4.1 Loops:\n",
    "Iterating over a set has the same syntax as iterating over a list; however, since sets are unordered, you cannot make assumptions about the order in which you visit the elements of the set:"
   ]
  },
  {
   "cell_type": "code",
   "execution_count": null,
   "metadata": {},
   "outputs": [
    {
     "name": "stdout",
     "output_type": "stream",
     "text": [
      "#1: dog\n",
      "#2: fish\n",
      "#3: cat\n"
     ]
    }
   ],
   "source": [
    "animals = {'cat', 'dog', 'fish'}\n",
    "for idx, animal in enumerate(animals):\n",
    "    print('#%d: %s' % (idx + 1, animal))\n",
    "# Prints \"#1: fish\", \"#2: dog\", \"#3: cat\""
   ]
  },
  {
   "cell_type": "markdown",
   "metadata": {
    "deletable": false,
    "editable": false,
    "nbgrader": {
     "cell_type": "markdown",
     "checksum": "bc8f9d27055f6fea693e442c2068dcf5",
     "grade": false,
     "grade_id": "cell-eb001822025222f2",
     "locked": true,
     "schema_version": 3,
     "solution": false,
     "task": false
    }
   },
   "source": [
    "## 4.2 Set comprehensions:\n",
    "Like lists and dictionaries, we can easily construct sets using set comprehensions:"
   ]
  },
  {
   "cell_type": "code",
   "execution_count": null,
   "metadata": {},
   "outputs": [
    {
     "name": "stdout",
     "output_type": "stream",
     "text": [
      "{0, 1, 2, 3, 4, 5}\n"
     ]
    }
   ],
   "source": [
    "from math import sqrt\n",
    "nums = {int(sqrt(x)) for x in range(30)}\n",
    "print(nums)  # Prints \"{0, 1, 2, 3, 4, 5}\""
   ]
  },
  {
   "cell_type": "markdown",
   "metadata": {
    "deletable": false,
    "editable": false,
    "nbgrader": {
     "cell_type": "markdown",
     "checksum": "45dd0c933683864a726a1a2bdf7202a8",
     "grade": false,
     "grade_id": "cell-128afb67c9babb9a",
     "locked": true,
     "schema_version": 3,
     "solution": false,
     "task": false
    }
   },
   "source": [
    "# 5. Tuples\n",
    "A tuple is an (immutable) ordered list of values. A tuple is in many ways similar to a list; one of the most important differences is that tuples can be used as keys in dictionaries and as elements of sets, while lists cannot. For more information see the [documentation](https://docs.python.org/3.5/tutorial/datastructures.html#tuples-and-sequences). Here is a trivial example:"
   ]
  },
  {
   "cell_type": "code",
   "execution_count": null,
   "metadata": {},
   "outputs": [],
   "source": [
    "d = {(x, x + 1): x for x in range(10)}  # Create a dictionary with tuple keys\n",
    "t = (5, 6)        # Create a tuple\n",
    "print(type(t))    # Prints \"<class 'tuple'>\"\n",
    "print(d[t])       # Prints \"5\"\n",
    "print(d[(1, 2)])  # Prints \"1\""
   ]
  },
  {
   "cell_type": "markdown",
   "metadata": {
    "deletable": false,
    "editable": false,
    "nbgrader": {
     "cell_type": "markdown",
     "checksum": "6b4b9f6a2a1025265c66a8f857c5552f",
     "grade": false,
     "grade_id": "cell-08321679d4ebd033",
     "locked": true,
     "schema_version": 3,
     "solution": false,
     "task": false
    }
   },
   "source": [
    "# 6. Classes\n",
    "\n",
    "Python is an object oriented programming language, meaning that the programming approach is based on the concept of <strong>objects</strong>. These objects can have attributes and methods. In order to create an object, one must first define a class.\n",
    "\n",
    "The syntax for defining classes in Python is straightforward:"
   ]
  },
  {
   "cell_type": "code",
   "execution_count": null,
   "metadata": {},
   "outputs": [],
   "source": [
    "class Greeter(object):\n",
    "\n",
    "    # Constructor\n",
    "    def __init__(self, name):\n",
    "        self.name = name  # Create an instance variable, which will be an attribute of an object\n",
    "\n",
    "    # Instance method\n",
    "    def greet(self, loud=False):\n",
    "        if loud:\n",
    "            print('HELLO, %s!' % self.name.upper())\n",
    "        else:\n",
    "            print('Hello, %s' % self.name)\n",
    "\n",
    "g = Greeter('Fred')  # Construct an instance of the Greeter class; g is now an object of type Greeter.\n",
    "g.greet()            # Call an instance method; prints \"Hello, Fred\"\n",
    "g.greet(loud=True)   # Call an instance method; prints \"HELLO, FRED!\"\n",
    "print(g.name)        # Print object 'name' attribute; prints \"Fred\""
   ]
  },
  {
   "cell_type": "markdown",
   "metadata": {
    "deletable": false,
    "editable": false,
    "nbgrader": {
     "cell_type": "markdown",
     "checksum": "b4100fb541709bdc98a834f9910c3705",
     "grade": false,
     "grade_id": "cell-a25280840ea163f9",
     "locked": true,
     "schema_version": 3,
     "solution": false,
     "task": false
    }
   },
   "source": [
    "**Exercise:**\n",
    "\n",
    "Finish the class definition below. Finish the function `repaint` and `getColor`.\n",
    "\n",
    "Function `getColor` returns the color of the instance.\n",
    "Function `repaint` should set a new color to the instance.\n",
    "\n"
   ]
  },
  {
   "cell_type": "code",
   "execution_count": null,
   "metadata": {
    "deletable": false,
    "nbgrader": {
     "cell_type": "code",
     "checksum": "a7ef0cc814b5150e9b87d1548b5bbcce",
     "grade": false,
     "grade_id": "cell-3493ee62404ff8a5",
     "locked": false,
     "schema_version": 3,
     "solution": true,
     "task": false
    }
   },
   "outputs": [],
   "source": [
    "class Car(object):\n",
    "    def __init__(self, color):\n",
    "        self.color = color        \n",
    "    \n",
    "    def repaint(self, color):\n",
    "        # YOUR CODE HERE\n",
    "        raise NotImplementedError()\n",
    "    \n",
    "    def getColor(self):\n",
    "        # YOUR CODE HERE\n",
    "        raise NotImplementedError()\n",
    "        return color\n",
    "        "
   ]
  },
  {
   "cell_type": "code",
   "execution_count": null,
   "metadata": {
    "deletable": false,
    "editable": false,
    "nbgrader": {
     "cell_type": "code",
     "checksum": "40554984489848ed494b6e3dc44d3958",
     "grade": true,
     "grade_id": "cell-ccf9afb43cdd9657",
     "locked": true,
     "points": 0.5,
     "schema_version": 3,
     "solution": false,
     "task": false
    }
   },
   "outputs": [],
   "source": [
    "Porsche = Car('white')\n",
    "assert Porsche.getColor() == 'white'\n",
    "\n"
   ]
  },
  {
   "cell_type": "markdown",
   "metadata": {
    "deletable": false,
    "editable": false,
    "nbgrader": {
     "cell_type": "markdown",
     "checksum": "e02f48aa2f025f7f3df2774b31ac74ea",
     "grade": false,
     "grade_id": "cell-e3173d22c51cf75b",
     "locked": true,
     "schema_version": 3,
     "solution": false,
     "task": false
    }
   },
   "source": [
    "There is a lot more about Python classes in the [documentation](https://docs.python.org/3.5/tutorial/classes.html)."
   ]
  },
  {
   "cell_type": "markdown",
   "metadata": {
    "deletable": false,
    "editable": false,
    "nbgrader": {
     "cell_type": "markdown",
     "checksum": "8b47602e01753151415fc424a229b467",
     "grade": false,
     "grade_id": "cell-cf72255b206bfbc8",
     "locked": true,
     "schema_version": 3,
     "solution": false,
     "task": false
    }
   },
   "source": [
    "# 7. Numpy\n",
    "Numpy is the core library for scientific computing in Python. It provides a high-performance multidimensional array object, and tools for working with these arrays. If you are already familiar with MATLAB, you might find this tutorial useful to get started with Numpy.\n",
    "\n",
    "## 7.1 Arrays\n",
    "A numpy array is a grid of values, all of the same type, and is indexed by a tuple of integers. The number of dimensions is the rank of the array; the shape of an array is a tuple of integers giving the size of the array along each dimension.\n",
    "\n",
    "We can initialize numpy arrays from nested Python lists, and access elements using square brackets:\n",
    "```python\n",
    "    a = np.array([1, 2, 3])            # Create a rank 1 array\n",
    "    b = np.array([[1,2,3],[4,5,6]])    # Create a rank 2 array\n",
    "    \n",
    "    print(type(a))                     # Prints \"<class 'numpy.ndarray'>\"\n",
    "    print(a.shape)                     # Prints \"(3,)\"\n",
    "    print(a[0], a[1], a[2])            # Prints \"1 2 3\"\n",
    "    a[0] = 5                           # Change an element of the array\n",
    "    print(a)                           # Prints \"[5, 2, 3]\"\n",
    "    \n",
    "    print(b.shape)                     # Prints \"(2, 3)\"\n",
    "    print(b[0, 0], b[0, 1], b[1, 0])   # Prints \"1 2 4\" \n",
    "```"
   ]
  },
  {
   "cell_type": "markdown",
   "metadata": {
    "deletable": false,
    "editable": false,
    "nbgrader": {
     "cell_type": "markdown",
     "checksum": "9831ffbf30bbbdd445b03029590ce77e",
     "grade": false,
     "grade_id": "cell-e9bf316008dbd502",
     "locked": true,
     "schema_version": 3,
     "solution": false,
     "task": false
    }
   },
   "source": [
    "Numpy also provides many functions to create arrays.\n",
    "                                 \n",
    "**Exercise:**\n",
    "\n",
    "Create following arrays using numpy:\n",
    "* an 8x8 array with all zeros, named `array_zeros`,\n",
    "* a 5x5x5 array with all ones, named `array_ones`,\n",
    "* a 2x2 identity matrix, named `array_identity`,\n",
    "* a 7x7 constant array with all 7, named `array_constant`."
   ]
  },
  {
   "cell_type": "code",
   "execution_count": null,
   "metadata": {
    "deletable": false,
    "nbgrader": {
     "cell_type": "code",
     "checksum": "adc9ed57892134a4f757ef4d6c12fff8",
     "grade": false,
     "grade_id": "cell-3ca5d2ee4409aaf4",
     "locked": false,
     "schema_version": 3,
     "solution": true,
     "task": false
    }
   },
   "outputs": [],
   "source": [
    "import numpy as np\n",
    "\n",
    "array_zeros = np.zeros((8,8))\n",
    "array_ones = np.ones((5,5,5))\n",
    "array_identity = np.eye(2)\n",
    "# An identity matrix is a square matrix in which all the elements of the principal diagonal are ones and all other elements are zeros.\n",
    "array_sevens = np.full((7,7), 7)\n",
    "# A constant array is an array in which all elements are the same.\n",
    "\n"
   ]
  },
  {
   "cell_type": "code",
   "execution_count": null,
   "metadata": {
    "deletable": false,
    "editable": false,
    "nbgrader": {
     "cell_type": "code",
     "checksum": "dd60000edaacd41e3d81a0b66d9474ae",
     "grade": true,
     "grade_id": "cell-0b7cec30fde3b771",
     "locked": true,
     "points": 0.5,
     "schema_version": 3,
     "solution": false,
     "task": false
    }
   },
   "outputs": [],
   "source": [
    "# Do not remove this cell, we have hidden tests here"
   ]
  },
  {
   "cell_type": "markdown",
   "metadata": {
    "deletable": false,
    "editable": false,
    "nbgrader": {
     "cell_type": "markdown",
     "checksum": "877e9b232d676b77a95d2cf2d7c1dce1",
     "grade": false,
     "grade_id": "cell-93a66384e5041f3c",
     "locked": true,
     "schema_version": 3,
     "solution": false,
     "task": false
    }
   },
   "source": [
    "You can read about other methods of array creation in the [documentation](http://docs.scipy.org/doc/numpy/user/basics.creation.html#arrays-creation)."
   ]
  },
  {
   "cell_type": "markdown",
   "metadata": {
    "deletable": false,
    "editable": false,
    "nbgrader": {
     "cell_type": "markdown",
     "checksum": "cf33d29925b04cfe0d8e282e0fc88da5",
     "grade": false,
     "grade_id": "cell-1112399ec6d1342e",
     "locked": true,
     "schema_version": 3,
     "solution": false,
     "task": false
    }
   },
   "source": [
    "## 7.2 Array indexing\n",
    "Numpy offers several ways to index into arrays.\n",
    "\n",
    "### 7.2.1 Slicing\n",
    "Similar to Python lists, numpy arrays can be sliced. Since arrays may be multidimensional, you must specify a slice for each dimension of the array.\n",
    "\n",
    "**Example:**\n",
    "\n",
    "```python\n",
    "    a = np.array([[5, 9, 2], [4, 8, 9], [7, 5, 9], [7, 8, 5]])\n",
    "```\n",
    "Slice `a` to pull out a subarray consisting of rows 1 and 2, and the last 2 columns:\n",
    "\n",
    "```python\n",
    "    b = a[1:3, 1:] #(b = [[8, 9], [5, 9]])\n",
    "    print(b)\n",
    "```\n",
    "this will output:\n",
    "```shell\n",
    "    [[8 9]\n",
    "     [5 9]] \n",
    "```\n",
    "\n",
    "**Exercise:** \n",
    "Create an array named `a` with shape (3, 4) with the following rows: \n",
    "* r<sub>1</sub> = [1,2,3,4]; \n",
    "* r<sub>2</sub> = [5,6,7,8]; \n",
    "* r<sub>3</sub> = [9,10,11,12]."
   ]
  },
  {
   "cell_type": "code",
   "execution_count": null,
   "metadata": {
    "deletable": false,
    "nbgrader": {
     "cell_type": "code",
     "checksum": "244b1b3c2c92f4f63637dd01d96b5063",
     "grade": false,
     "grade_id": "cell-7a1f6ec23919e8be",
     "locked": false,
     "schema_version": 3,
     "solution": true,
     "task": false
    }
   },
   "outputs": [
    {
     "name": "stdout",
     "output_type": "stream",
     "text": [
      "[[ 1  2  3  4]\n",
      " [ 5  6  7  8]\n",
      " [ 9 10 11 12]]\n"
     ]
    }
   ],
   "source": [
    "# Create the array with the specified rows\n",
    "a = np.array([\n",
    "    [1, 2, 3, 4],\n",
    "    [5, 6, 7, 8],\n",
    "    [9, 10, 11, 12]\n",
    "])\n",
    "\n",
    "print(a)"
   ]
  },
  {
   "cell_type": "code",
   "execution_count": null,
   "metadata": {
    "deletable": false,
    "editable": false,
    "nbgrader": {
     "cell_type": "code",
     "checksum": "a616ebe4b7b6caf41600ee631a1e89c3",
     "grade": true,
     "grade_id": "cell-3a7d8dfefedffab9",
     "locked": true,
     "points": 0.2,
     "schema_version": 3,
     "solution": false,
     "task": false
    }
   },
   "outputs": [],
   "source": [
    "# Do not remove this cell, we have hidden tests here"
   ]
  },
  {
   "cell_type": "markdown",
   "metadata": {
    "deletable": false,
    "editable": false,
    "nbgrader": {
     "cell_type": "markdown",
     "checksum": "85704d6fa97b4df7ad79260e71391eea",
     "grade": false,
     "grade_id": "cell-784fb0e8b4fa6290",
     "locked": true,
     "schema_version": 3,
     "solution": false,
     "task": false
    }
   },
   "source": [
    "Use slicing to pull out the subarray of shape (2, 2) from `a` consisting of the first 2 rows and columns 1 and 2. Name this array `b`."
   ]
  },
  {
   "cell_type": "code",
   "execution_count": null,
   "metadata": {
    "deletable": false,
    "nbgrader": {
     "cell_type": "code",
     "checksum": "257e651c51b7a71158a294fd9956a67b",
     "grade": false,
     "grade_id": "cell-08c3ba070956b10f",
     "locked": false,
     "schema_version": 3,
     "solution": true,
     "task": false
    }
   },
   "outputs": [
    {
     "name": "stdout",
     "output_type": "stream",
     "text": [
      "[[2 3]\n",
      " [6 7]]\n"
     ]
    }
   ],
   "source": [
    "b = a[:2, 1:3]\n",
    "print(b)"
   ]
  },
  {
   "cell_type": "code",
   "execution_count": null,
   "metadata": {
    "deletable": false,
    "editable": false,
    "nbgrader": {
     "cell_type": "code",
     "checksum": "9f9a96640d82fb45450d0ac244598f6b",
     "grade": true,
     "grade_id": "cell-39dc2fc4e71b9254",
     "locked": true,
     "points": 0.3,
     "schema_version": 3,
     "solution": false,
     "task": false
    }
   },
   "outputs": [],
   "source": [
    "assert b.shape == (2,2), \"b should be np.array of shape 2 by 2\""
   ]
  },
  {
   "cell_type": "markdown",
   "metadata": {
    "deletable": false,
    "editable": false,
    "nbgrader": {
     "cell_type": "markdown",
     "checksum": "2b87da02ca17d546ab989f05ce59838d",
     "grade": false,
     "grade_id": "cell-5153a0d887be44c6",
     "locked": true,
     "schema_version": 3,
     "solution": false,
     "task": false
    }
   },
   "source": [
    "A slice of an array is a view into the same data, so modifying it will modify the original array. Check this by typing the following commands.\n",
    "```python\n",
    "    print(a[0, 1])   # Prints \"2\"\n",
    "    b[0, 0] = 77     # b[0, 0] is the same piece of data as a[0, 1]\n",
    "    print(a[0, 1])   # Prints \"77\" \n",
    "```\n",
    "\n",
    "**Exercise:** \n",
    "Now change all values in `b` to be zero and thereby changing `a` through `b`."
   ]
  },
  {
   "cell_type": "code",
   "execution_count": null,
   "metadata": {
    "deletable": false,
    "nbgrader": {
     "cell_type": "code",
     "checksum": "7947bf9608fad127bbd11c37534ebebb",
     "grade": false,
     "grade_id": "cell-e4eeec68b69d7232",
     "locked": false,
     "schema_version": 3,
     "solution": true,
     "task": false
    }
   },
   "outputs": [
    {
     "name": "stdout",
     "output_type": "stream",
     "text": [
      "Initial value of a[0, 1]: 2\n",
      "Modified value of a[0, 1]: 77\n",
      "Modified array b:\n",
      " [[0 0]\n",
      " [0 0]]\n",
      "Modified array a:\n",
      " [[ 1  0  0  4]\n",
      " [ 5  0  0  8]\n",
      " [ 9 10 11 12]]\n"
     ]
    }
   ],
   "source": [
    "# Check the initial values\n",
    "print(\"Initial value of a[0, 1]:\", a[0, 1])  # Prints \"2\"\n",
    "\n",
    "# Modify b and check the effect on a\n",
    "b[0, 0] = 77\n",
    "print(\"Modified value of a[0, 1]:\", a[0, 1])  # Prints \"77\"\n",
    "\n",
    "# Change all values in b to zero\n",
    "b[:] = 0\n",
    "\n",
    "# Print the modified arrays\n",
    "print(\"Modified array b:\\n\", b)\n",
    "print(\"Modified array a:\\n\", a)"
   ]
  },
  {
   "cell_type": "code",
   "execution_count": null,
   "metadata": {
    "deletable": false,
    "editable": false,
    "nbgrader": {
     "cell_type": "code",
     "checksum": "03f95b0ab6184eaf682b9a5d5fea5f41",
     "grade": true,
     "grade_id": "cell-71c234125f99f165",
     "locked": true,
     "points": 0.5,
     "schema_version": 3,
     "solution": false,
     "task": false
    }
   },
   "outputs": [],
   "source": [
    "assert b.shape == (2,2)\n",
    "assert a.shape == (3,4)"
   ]
  },
  {
   "cell_type": "markdown",
   "metadata": {
    "deletable": false,
    "editable": false,
    "nbgrader": {
     "cell_type": "markdown",
     "checksum": "0d94f4dbf382ef1e39fe3ca18f539522",
     "grade": false,
     "grade_id": "cell-8b5118ef9e486234",
     "locked": true,
     "schema_version": 3,
     "solution": false,
     "task": false
    }
   },
   "source": [
    "You can also mix integer indexing with slice indexing. However, doing so will yield an array of lower rank than the original array.\n",
    "\n",
    "Create the following Rank 2 numpy array (say `a`) with shape (3, 4) \n",
    " \n",
    "```python\n",
    "     a = np.array([[ 1  2  3  4],\n",
    "                   [ 5  6  7  8],\n",
    "                   [ 9 10 11 12]])\n",
    "```\n",
    "          \n",
    "Two ways of accessing the data in the middle row of the array.<br/>\n",
    "1. Mixing integer indexing with slices yields an array of lower rank e.g.:\n",
    "```python\n",
    "     a[1, :]     # Rank 1 view of the second row of a\n",
    "```\n",
    "        \n",
    "2. while using only slices yields an array of the same rank as the original array e.g.:\n",
    "```python\n",
    "     a[1:2, :]  # Rank 2 view of the second row of a\n",
    "```\n",
    "\n",
    "**Exercise:** \n",
    "\n",
    "Implement this for the columns of `a` in the cell below and print the ranks (use [`ndarray.shape`](https://numpy.org/doc/stable/reference/generated/numpy.ndarray.shape.html)) command) of the resulting array:\n",
    "* Create the Rank 1 view of the second column of `a`, named `col_r1`\n",
    "* Create the Rank 2 view of the second column of `a`, named `col_r2`"
   ]
  },
  {
   "cell_type": "code",
   "execution_count": null,
   "metadata": {
    "deletable": false,
    "nbgrader": {
     "cell_type": "code",
     "checksum": "7c009bfbb443b7ba12e7e49547528e1a",
     "grade": false,
     "grade_id": "cell-c69ae5eaf2f7342b",
     "locked": false,
     "schema_version": 3,
     "solution": true,
     "task": false
    }
   },
   "outputs": [
    {
     "name": "stdout",
     "output_type": "stream",
     "text": [
      "col_r1 shape: (3,)\n",
      "col_r2 shape: (3, 1)\n"
     ]
    }
   ],
   "source": [
    "a = np.array([[1,2,3,4], [5,6,7,8], [9,10,11,12]])\n",
    "col_r1 = None\n",
    "col_r2 = None\n",
    "\n",
    "# Create the Rank 1 view of the second column of 'a'\n",
    "col_r1 = a[:, 1]\n",
    "print(\"col_r1 shape:\", col_r1.shape)\n",
    "\n",
    "# Create the Rank 2 view of the second column of 'a'\n",
    "col_r2 = a[:, 1:2]\n",
    "print(\"col_r2 shape:\", col_r2.shape)"
   ]
  },
  {
   "cell_type": "code",
   "execution_count": null,
   "metadata": {
    "deletable": false,
    "editable": false,
    "nbgrader": {
     "cell_type": "code",
     "checksum": "48199e4295c29ad96869a355fc3181eb",
     "grade": true,
     "grade_id": "cell-0e4cff9731355c58",
     "locked": true,
     "points": 0.5,
     "schema_version": 3,
     "solution": false,
     "task": false
    }
   },
   "outputs": [],
   "source": [
    "assert col_r1.shape == (3,)\n",
    "assert col_r2.shape == (3,1)"
   ]
  },
  {
   "cell_type": "markdown",
   "metadata": {
    "deletable": false,
    "editable": false,
    "nbgrader": {
     "cell_type": "markdown",
     "checksum": "1c1eaf7ca9ae3845706b8b5ac87c07d1",
     "grade": false,
     "grade_id": "cell-fa97a250cca2b598",
     "locked": true,
     "schema_version": 3,
     "solution": false,
     "task": false
    }
   },
   "source": [
    "### 7.2.2 Integer array indexing\n",
    "\n",
    "When you index into numpy arrays using slicing, the resulting array view will always be a subarray of the original array. In contrast, integer array indexing allows you to construct arbitrary arrays using the data from another array. Here is an example:"
   ]
  },
  {
   "cell_type": "code",
   "execution_count": null,
   "metadata": {},
   "outputs": [
    {
     "name": "stdout",
     "output_type": "stream",
     "text": [
      "[[1 2]\n",
      " [3 4]\n",
      " [5 6]]\n",
      "[1 4 5]\n",
      "[1 4 5]\n",
      "[2 2]\n",
      "[2 2]\n"
     ]
    }
   ],
   "source": [
    "a = np.array([[1,2], [3, 4], [5, 6]])\n",
    "\n",
    "print(a)\n",
    "\n",
    "# An example of integer array indexing.\n",
    "# The returned array will have shape (3,) and\n",
    "print(a[[0, 1, 2], [0, 1, 0]])  # Prints \"[1 4 5]\"\n",
    "\n",
    "# The above example of integer array indexing is equivalent to this:\n",
    "print(np.array([a[0, 0], a[1, 1], a[2, 0]]))  # Prints \"[1 4 5]\"\n",
    "\n",
    "# When using integer array indexing, you can reuse the same\n",
    "# element from the source array:\n",
    "print(a[[0, 0], [1, 1]])  # Prints \"[2 2]\"\n",
    "\n",
    "# Equivalent to the previous integer array indexing example\n",
    "print(np.array([a[0, 1], a[0, 1]]))  # Prints \"[2 2]\""
   ]
  },
  {
   "cell_type": "markdown",
   "metadata": {},
   "source": [
    "**Exercise:** \n",
    "\n",
    "Based on the elements of the array:\n",
    "```python\n",
    "    a = np.array([[5, 7, 8],\n",
    "                  [4, 2, 54],\n",
    "                  [6, 43, 12]])\n",
    "```\n",
    "         \n",
    "Using integer indexing, we want to obtain the array `b = [7, 4, 54]`. To do so, we need to execute the following command:\n",
    "\n",
    "```python\n",
    "    b = a[[x_1, x_2, x_3], [x_4, x_5, x_6]]\n",
    "```\n",
    "\n",
    "\n",
    "Replace `None` with the values of `x_i` in the following cell."
   ]
  },
  {
   "cell_type": "code",
   "execution_count": null,
   "metadata": {
    "deletable": false,
    "nbgrader": {
     "cell_type": "code",
     "checksum": "1705e3f470d1e3d3425098b2828e512a",
     "grade": false,
     "grade_id": "cell-d3fe2b8ce15dd122",
     "locked": false,
     "schema_version": 3,
     "solution": true,
     "task": false
    }
   },
   "outputs": [
    {
     "name": "stdout",
     "output_type": "stream",
     "text": [
      "[ 7  4 54]\n"
     ]
    }
   ],
   "source": [
    "a = np.array([[5, 7, 8], [4, 2, 54], [6, 43, 12]])\n",
    "\n",
    "x_1 = 0  # Row index for 7\n",
    "x_2 = 1  # Row index for 4\n",
    "x_3 = 1  # Row index for 54\n",
    "x_4 = 1  # Column index for 7\n",
    "x_5 = 0  # Column index for 4\n",
    "x_6 = 2  # Column index for 54\n",
    "\n",
    "b = a[[x_1, x_2, x_3], [x_4, x_5, x_6]]\n",
    "print(b)\n"
   ]
  },
  {
   "cell_type": "code",
   "execution_count": null,
   "metadata": {
    "deletable": false,
    "editable": false,
    "nbgrader": {
     "cell_type": "code",
     "checksum": "a052b0cd396115419d958758b3b36692",
     "grade": true,
     "grade_id": "cell-a528b658599fe9a7",
     "locked": true,
     "points": 0.5,
     "schema_version": 3,
     "solution": false,
     "task": false
    }
   },
   "outputs": [],
   "source": [
    "# Do not remove this cell, we have hidden tests here"
   ]
  },
  {
   "cell_type": "markdown",
   "metadata": {
    "deletable": false,
    "editable": false,
    "nbgrader": {
     "cell_type": "markdown",
     "checksum": "10d84a46fb6874b797b675038fb1c9d4",
     "grade": false,
     "grade_id": "cell-11a95e0fe207183d",
     "locked": true,
     "schema_version": 3,
     "solution": false,
     "task": false
    }
   },
   "source": [
    "One useful trick with integer array indexing is selecting or mutating one element from each row of a matrix:\n",
    "\n",
    "Create a new array from which we will select elements\n",
    "```python\n",
    "    a = np.array([[1,2,3], [4,5,6], [7,8,9], [10, 11, 12]])\n",
    "    print(a)  \n",
    "    \n",
    "    # it will print:\n",
    "    # array([[ 1,  2,  3],\n",
    "    #        [ 4,  5,  6],\n",
    "    #        [ 7,  8,  9],\n",
    "    #        [10, 11, 12]])\n",
    "```\n",
    "Create an array of indices\n",
    "```python\n",
    "    b = np.array([0, 2, 0, 1])\n",
    "```\n",
    "Select one element from each row of a using the indices in b\n",
    "```python\n",
    "    print(a[np.arange(4), b])  \n",
    "    # it will print: \n",
    "    #  [ 1  6  7 11]\n",
    "```\n",
    "Mutate one element from each row of a using the indices in b\n",
    "```python\n",
    "    a[np.arange(4), b] += 10\n",
    "    print(a)  \n",
    "    \n",
    "    # it will print \n",
    "    # array([[11,  2,  3],\n",
    "    #        [ 4,  5, 16],\n",
    "    #        [17,  8,  9],\n",
    "    #        [10, 21, 12]])\n",
    "```            \n",
    "**Exercise:**\n",
    "Multiply by 2 every element of `a` belonging to rows 2 and 3 and columns 1 and 2.\n",
    "\n",
    "**Note:** Remember that counting in python starts from 0."
   ]
  },
  {
   "cell_type": "code",
   "execution_count": null,
   "metadata": {
    "deletable": false,
    "nbgrader": {
     "cell_type": "code",
     "checksum": "3c32a48b56a0e4e31134621b758e3871",
     "grade": false,
     "grade_id": "cell-992b5cd37514a784",
     "locked": false,
     "schema_version": 3,
     "solution": true,
     "task": false
    }
   },
   "outputs": [
    {
     "name": "stdout",
     "output_type": "stream",
     "text": [
      "[[ 1  2  3]\n",
      " [ 4  5  6]\n",
      " [ 7 16 18]\n",
      " [10 22 24]]\n"
     ]
    }
   ],
   "source": [
    "a = np.array([[1,2,3], [4,5,6], [7,8,9], [10, 11, 12]])\n",
    "# Multiply by 2 every element of 'a' belonging to rows 2 and 3 and columns 1 and 2\n",
    "a[2:4, 1:3] *= 2\n",
    "\n",
    "print(a)"
   ]
  },
  {
   "cell_type": "code",
   "execution_count": null,
   "metadata": {
    "deletable": false,
    "editable": false,
    "nbgrader": {
     "cell_type": "code",
     "checksum": "59565ec3998623be40f64188c25a9314",
     "grade": true,
     "grade_id": "cell-22672b3aa6920837",
     "locked": true,
     "points": 0.5,
     "schema_version": 3,
     "solution": false,
     "task": false
    }
   },
   "outputs": [],
   "source": [
    "# Do not remove this cell, we have hidden tests here"
   ]
  },
  {
   "cell_type": "markdown",
   "metadata": {
    "deletable": false,
    "editable": false,
    "nbgrader": {
     "cell_type": "markdown",
     "checksum": "d6cecdad8f37003db9937916f70ad20a",
     "grade": false,
     "grade_id": "cell-4266f2e3a4f31523",
     "locked": true,
     "schema_version": 3,
     "solution": false,
     "task": false
    }
   },
   "source": [
    "### 7.2.3 Boolean array indexing:\n",
    "Boolean array indexing lets you pick out arbitrary elements of an array. Frequently this type of indexing is used to select the elements of an array that satisfy some condition. Here is an example:"
   ]
  },
  {
   "cell_type": "code",
   "execution_count": null,
   "metadata": {},
   "outputs": [
    {
     "name": "stdout",
     "output_type": "stream",
     "text": [
      "[[False False]\n",
      " [ True  True]\n",
      " [ True  True]]\n",
      "[3 4 5 6]\n",
      "[3 4 5 6]\n"
     ]
    }
   ],
   "source": [
    "a = np.array([[1,2], [3, 4], [5, 6]])\n",
    "\n",
    "bool_idx = a > 2     # Find the elements of a that are bigger than 2;\n",
    "                     # this returns a numpy array of Booleans of the same\n",
    "                     # shape as a, where each slot of bool_idx tells\n",
    "                     # whether that element of a is > 2.\n",
    "\n",
    "print(bool_idx)      # Prints \"[[False False]\n",
    "                     #          [ True  True]\n",
    "                     #          [ True  True]]\"\n",
    "\n",
    "# We use boolean array indexing to construct a rank 1 array \n",
    "# consisting of the elements corresponding to the True values\n",
    "# of bool_idx\n",
    "print(a[bool_idx])  # Prints \"[3 4 5 6]\"\n",
    "\n",
    "# We can do all of the above in a single concise statement:\n",
    "print(a[a > 2])     # Prints \"[3 4 5 6]\""
   ]
  },
  {
   "cell_type": "markdown",
   "metadata": {
    "deletable": false,
    "editable": false,
    "nbgrader": {
     "cell_type": "markdown",
     "checksum": "9121a72ebda730450dcf23d4559bb1b8",
     "grade": false,
     "grade_id": "cell-bcda2a66a0807eb2",
     "locked": true,
     "schema_version": 3,
     "solution": false,
     "task": false
    }
   },
   "source": [
    "For more details, please see the [documentation.](http://docs.scipy.org/doc/numpy/reference/arrays.indexing.html)"
   ]
  },
  {
   "cell_type": "markdown",
   "metadata": {
    "deletable": false,
    "editable": false,
    "nbgrader": {
     "cell_type": "markdown",
     "checksum": "691951a1867ce8607e9f63dad0703ebc",
     "grade": false,
     "grade_id": "cell-62e5ee31c5fa16e1",
     "locked": true,
     "schema_version": 3,
     "solution": false,
     "task": false
    }
   },
   "source": [
    "**Exercise:** \n",
    "Given the vector `x`, save in a vector `a` the indexes of `x` where its elements are 7. The indexes in question should be of type int."
   ]
  },
  {
   "cell_type": "code",
   "execution_count": null,
   "metadata": {
    "deletable": false,
    "nbgrader": {
     "cell_type": "code",
     "checksum": "9fe0171d2b893e9b41e8bb4b46003d60",
     "grade": false,
     "grade_id": "cell-f2fc8b8a74519751",
     "locked": false,
     "schema_version": 3,
     "solution": true,
     "task": false
    }
   },
   "outputs": [
    {
     "name": "stdout",
     "output_type": "stream",
     "text": [
      "[2 9]\n"
     ]
    }
   ],
   "source": [
    "x = np.array([2, 4, 7, 3, 5, 8, 4, 2, 4, 7])  # find indexes where x = 7\n",
    "inx = np.arange(x.shape[0]) \n",
    "# Find the indexes where x equals 7\n",
    "a = inx[x == 7]\n",
    "\n",
    "print(a)"
   ]
  },
  {
   "cell_type": "code",
   "execution_count": null,
   "metadata": {
    "deletable": false,
    "editable": false,
    "nbgrader": {
     "cell_type": "code",
     "checksum": "562682e0a5a983a62f571f84f483223a",
     "grade": true,
     "grade_id": "cell-8e2e0bbfd5261eb4",
     "locked": true,
     "points": 0.2,
     "schema_version": 3,
     "solution": false,
     "task": false
    }
   },
   "outputs": [],
   "source": [
    "# Do not remove this cell, we have hidden tests here"
   ]
  },
  {
   "cell_type": "markdown",
   "metadata": {
    "deletable": false,
    "editable": false,
    "nbgrader": {
     "cell_type": "markdown",
     "checksum": "ae6884b1f84a56b00794f914fbc2baa3",
     "grade": false,
     "grade_id": "cell-7a0b7968e6044955",
     "locked": true,
     "schema_version": 3,
     "solution": false,
     "task": false
    }
   },
   "source": [
    "**Exercise:** \n",
    "Given `x`, find the rows of `x` where the sum of the elements is higher than 6, and save these rows in array `a`."
   ]
  },
  {
   "cell_type": "code",
   "execution_count": null,
   "metadata": {
    "deletable": false,
    "nbgrader": {
     "cell_type": "code",
     "checksum": "08a13a60cb682fcf5c59a31d51b2d58b",
     "grade": false,
     "grade_id": "cell-54ad61b584265527",
     "locked": false,
     "schema_version": 3,
     "solution": true,
     "task": false
    }
   },
   "outputs": [
    {
     "name": "stdout",
     "output_type": "stream",
     "text": [
      "[[1 2 3 4]\n",
      " [2 3 4 5]]\n"
     ]
    }
   ],
   "source": [
    "x = np.array([[1, 2, 3, 4], [2, 3, 4, 5], [1, 1, 1, 1]])  # select rows with sum larger than 6\n",
    "# Find the rows where the sum of the elements is higher than 6\n",
    "a = x[np.sum(x, axis=1) > 6]\n",
    "\n",
    "print(a)"
   ]
  },
  {
   "cell_type": "code",
   "execution_count": null,
   "metadata": {
    "deletable": false,
    "editable": false,
    "nbgrader": {
     "cell_type": "code",
     "checksum": "1c951e5439d6d44cc73295d375f8b3fb",
     "grade": true,
     "grade_id": "cell-2c325e54dad55151",
     "locked": true,
     "points": 0.3,
     "schema_version": 3,
     "solution": false,
     "task": false
    }
   },
   "outputs": [],
   "source": [
    "# Do not remove this cell, we have hidden tests here"
   ]
  },
  {
   "cell_type": "markdown",
   "metadata": {
    "deletable": false,
    "editable": false,
    "nbgrader": {
     "cell_type": "markdown",
     "checksum": "e12607e87dc5eb98a06a73bbfe379307",
     "grade": false,
     "grade_id": "cell-1cf29e8f1f33b636",
     "locked": true,
     "schema_version": 3,
     "solution": false,
     "task": false
    }
   },
   "source": [
    "## 7.3 Datatypes\n",
    "Every numpy array is a grid of elements of the same type. Numpy provides a large set of numeric datatypes that you can use to construct arrays. Numpy tries to guess a datatype when you create an array, but functions that construct arrays usually also include an optional argument to explicitly specify the datatype. Here is an example:"
   ]
  },
  {
   "cell_type": "code",
   "execution_count": null,
   "metadata": {},
   "outputs": [
    {
     "name": "stdout",
     "output_type": "stream",
     "text": [
      "int64\n",
      "float64\n",
      "float64\n"
     ]
    }
   ],
   "source": [
    "x = np.array([1, 2])                   # Let numpy choose the datatype\n",
    "print(x.dtype)                         # Prints \"int64\"\n",
    "\n",
    "x = np.array([1.0, 2.0])               # Let numpy choose the datatype\n",
    "print(x.dtype)                         # Prints \"float64\"\n",
    "\n",
    "x = np.array([1, 2], dtype=np.float64) # Force a particular datatype\n",
    "print(x.dtype)                         # Prints \"float64\""
   ]
  },
  {
   "cell_type": "markdown",
   "metadata": {
    "deletable": false,
    "editable": false,
    "nbgrader": {
     "cell_type": "markdown",
     "checksum": "2c352d7f9a827a1b5f4059189610bf41",
     "grade": false,
     "grade_id": "cell-b7f13ebb035a0b26",
     "locked": true,
     "schema_version": 3,
     "solution": false,
     "task": false
    }
   },
   "source": [
    "For more details, please see the [documentation.](http://docs.scipy.org/doc/numpy/reference/arrays.dtypes.html)"
   ]
  },
  {
   "cell_type": "markdown",
   "metadata": {
    "deletable": false,
    "editable": false,
    "nbgrader": {
     "cell_type": "markdown",
     "checksum": "68e83a1d5e41aaa22d1969a05cc5cbef",
     "grade": false,
     "grade_id": "cell-8a4f64b712515580",
     "locked": true,
     "schema_version": 3,
     "solution": false,
     "task": false
    }
   },
   "source": [
    "## 7.4 Array math\n",
    "Basic mathematical functions operate elementwise on arrays, and are available both as operator overloads and as functions in the numpy module:"
   ]
  },
  {
   "cell_type": "code",
   "execution_count": null,
   "metadata": {},
   "outputs": [
    {
     "name": "stdout",
     "output_type": "stream",
     "text": [
      "[[ 6.  8.]\n",
      " [10. 12.]]\n",
      "[[ 6.  8.]\n",
      " [10. 12.]]\n",
      "[[-4. -4.]\n",
      " [-4. -4.]]\n",
      "[[-4. -4.]\n",
      " [-4. -4.]]\n",
      "[[ 5. 12.]\n",
      " [21. 32.]]\n",
      "[[ 5. 12.]\n",
      " [21. 32.]]\n",
      "[[0.2        0.33333333]\n",
      " [0.42857143 0.5       ]]\n",
      "[[0.2        0.33333333]\n",
      " [0.42857143 0.5       ]]\n",
      "[[1.         1.41421356]\n",
      " [1.73205081 2.        ]]\n"
     ]
    }
   ],
   "source": [
    "import numpy as np\n",
    "\n",
    "x = np.array([[1,2],[3,4]], dtype=np.float64)\n",
    "y = np.array([[5,6],[7,8]], dtype=np.float64)\n",
    "\n",
    "# Elementwise sum; both produce the array\n",
    "# [[ 6.0  8.0]\n",
    "#  [10.0 12.0]]\n",
    "print(x + y)\n",
    "print(np.add(x, y))\n",
    "\n",
    "# Elementwise difference; both produce the array\n",
    "# [[-4.0 -4.0]\n",
    "#  [-4.0 -4.0]]\n",
    "print(x - y)\n",
    "print(np.subtract(x, y))\n",
    "\n",
    "# Elementwise product; both produce the array\n",
    "# [[ 5.0 12.0]\n",
    "#  [21.0 32.0]]\n",
    "print(x * y)\n",
    "print(np.multiply(x, y))\n",
    "\n",
    "# Elementwise division; both produce the array\n",
    "# [[ 0.2         0.33333333]\n",
    "#  [ 0.42857143  0.5       ]]\n",
    "print(x / y)\n",
    "print(np.divide(x, y))\n",
    "\n",
    "# Elementwise square root; produces the array\n",
    "# [[ 1.          1.41421356]\n",
    "#  [ 1.73205081  2.        ]]\n",
    "print(np.sqrt(x))"
   ]
  },
  {
   "cell_type": "markdown",
   "metadata": {
    "deletable": false,
    "editable": false,
    "nbgrader": {
     "cell_type": "markdown",
     "checksum": "6d77b9aef36f72b54a3afa93906372a2",
     "grade": false,
     "grade_id": "cell-34ae80e5b820879d",
     "locked": true,
     "schema_version": 3,
     "solution": false,
     "task": false
    }
   },
   "source": [
    "Numpy provides many useful functions for performing computations on arrays; one of the most useful is sum:"
   ]
  },
  {
   "cell_type": "code",
   "execution_count": null,
   "metadata": {},
   "outputs": [
    {
     "name": "stdout",
     "output_type": "stream",
     "text": [
      "10\n",
      "[4 6]\n",
      "[3 7]\n"
     ]
    }
   ],
   "source": [
    "x = np.array([[1,2],[3,4]])\n",
    "\n",
    "print(np.sum(x))          # Compute sum of all elements; prints \"10\"\n",
    "print(np.sum(x, axis=0))  # Compute sum of each column; prints \"[4 6]\"\n",
    "print(np.sum(x, axis=1))  # Compute sum of each row; prints \"[3 7]\""
   ]
  },
  {
   "cell_type": "markdown",
   "metadata": {
    "deletable": false,
    "editable": false,
    "nbgrader": {
     "cell_type": "markdown",
     "checksum": "ff42cc27bc401658a3cf1c5cbeaa82a6",
     "grade": false,
     "grade_id": "cell-b8d4656b60fa6e7c",
     "locked": true,
     "schema_version": 3,
     "solution": false,
     "task": false
    }
   },
   "source": [
    "**Exercise:** \n",
    "\n",
    "Write a function named `rmse`, that takes two 1D numpy arrays (of the same length) as input, calculate the **Root Mean Squared Error (RMSE)** between them and return the output:\n",
    "$$\n",
    "RMSE = \\sqrt{\\frac{1}{n}\\sum_{t=1}^{n}(\\hat{y_t} - y_t)^2}.\n",
    "$$\n",
    "Implement the following equation only using array math functions.\n",
    "\n",
    "For a hint, please see [this](https://numpy.org/doc/stable/reference/generated/numpy.power.html). Also note, that the lenth of a np.array can also be obtained using `len()` command.\n"
   ]
  },
  {
   "cell_type": "code",
   "execution_count": null,
   "metadata": {
    "deletable": false,
    "nbgrader": {
     "cell_type": "code",
     "checksum": "3bfa9981bfceaa5ec33e1f8fee8041d3",
     "grade": false,
     "grade_id": "cell-eb32476ad1486115",
     "locked": false,
     "schema_version": 3,
     "solution": true,
     "task": false
    }
   },
   "outputs": [],
   "source": [
    "def rmse(y, y_hat):\n",
    "    # Calculate the squared differences\n",
    "    squared_diff = np.power(y_hat - y, 2)\n",
    "    # Calculate the mean of the squared differences\n",
    "    mean_squared_diff = np.mean(squared_diff)\n",
    "    # Calculate the square root of the mean squared differences\n",
    "    root_mean_squared_error = np.sqrt(mean_squared_diff)\n",
    "    return root_mean_squared_error"
   ]
  },
  {
   "cell_type": "code",
   "execution_count": null,
   "metadata": {},
   "outputs": [
    {
     "name": "stdout",
     "output_type": "stream",
     "text": [
      "164.27153841531202\n"
     ]
    }
   ],
   "source": [
    "y = np.array([1.4, 2, 5.6, 400, 52, 61])\n",
    "y_hat = np.array([0.9, 1.8, 3.1, 4.2, 5.1, 5.8])\n",
    "\n",
    "print(rmse(y, y_hat))"
   ]
  },
  {
   "cell_type": "code",
   "execution_count": null,
   "metadata": {
    "deletable": false,
    "editable": false,
    "nbgrader": {
     "cell_type": "code",
     "checksum": "9b63c3e65552e45b9b3215ed4eccf22c",
     "grade": true,
     "grade_id": "cell-2251e5722ee61804",
     "locked": true,
     "points": 1,
     "schema_version": 3,
     "solution": false,
     "task": false
    }
   },
   "outputs": [],
   "source": [
    "assert rmse(np.array([1, 2, 3, 4, 5, 6]), np.array([0.9, 1.8, 3.1, 4.2, 5.1, 5.8]))==0.158113883008419"
   ]
  },
  {
   "cell_type": "markdown",
   "metadata": {
    "deletable": false,
    "editable": false,
    "nbgrader": {
     "cell_type": "markdown",
     "checksum": "a9f698468672ad8b87e95983b845108e",
     "grade": false,
     "grade_id": "cell-1302309136817333",
     "locked": true,
     "schema_version": 3,
     "solution": false,
     "task": false
    }
   },
   "source": [
    "Note that unlike MATLAB, * is elementwise multiplication, not matrix multiplication. We instead use the `dot` function to compute inner products of vectors, to multiply a vector by a matrix, and to multiply matrices. `dot` is available both as a function in the numpy module and as an instance method of array objects:"
   ]
  },
  {
   "cell_type": "code",
   "execution_count": null,
   "metadata": {},
   "outputs": [
    {
     "name": "stdout",
     "output_type": "stream",
     "text": [
      "219\n",
      "219\n",
      "[29 67]\n",
      "[29 67]\n",
      "[[19 22]\n",
      " [43 50]]\n",
      "[[19 22]\n",
      " [43 50]]\n"
     ]
    }
   ],
   "source": [
    "x = np.array([[1,2],[3,4]])\n",
    "y = np.array([[5,6],[7,8]])\n",
    "\n",
    "v = np.array([9,10])\n",
    "w = np.array([11, 12])\n",
    "\n",
    "# Inner product of vectors; both produce 219\n",
    "print(v.dot(w))\n",
    "print(np.dot(v, w))\n",
    "\n",
    "# Matrix / vector product; both produce the rank 1 array [29 67]\n",
    "print(x.dot(v))\n",
    "print(np.dot(x, v))\n",
    "\n",
    "# Matrix / matrix product; both produce the rank 2 array\n",
    "# [[19 22]\n",
    "#  [43 50]]\n",
    "print(x.dot(y))\n",
    "print(np.dot(x, y))"
   ]
  },
  {
   "cell_type": "markdown",
   "metadata": {
    "deletable": false,
    "editable": false,
    "nbgrader": {
     "cell_type": "markdown",
     "checksum": "841be5a82f7e287d83446f5167b6bcc0",
     "grade": false,
     "grade_id": "cell-e416bcdd29749b2b",
     "locked": true,
     "schema_version": 3,
     "solution": false,
     "task": false
    }
   },
   "source": [
    "You can find the full list of mathematical functions provided by numpy in the [documentation](http://docs.scipy.org/doc/numpy/reference/routines.math.html).\n",
    "\n",
    "\n",
    "### 7.4.1 Transpose\n",
    "Apart from computing mathematical functions using arrays, we frequently need to reshape or otherwise manipulate data in arrays. The simplest example of this type of operation is transposing a matrix; to transpose a matrix, simply use the `T` attribute of an array object:\n",
    "```python\n",
    "    x = np.array([[1,2], [3,4]])\n",
    "    print(x)                           \n",
    "    # it will print:\n",
    "    #  [[1 2]\n",
    "    #   [3 4]]\n",
    "                                       \n",
    "    print(x.T)                         \n",
    "    # it will print:\n",
    "    #   [[1 3]                                 \n",
    "    #    [2 4]]\"\n",
    "```                                      \n",
    "Note that taking the transpose of a rank 1 array does nothing:\n",
    "```python\n",
    "    v = np.array([1,2,3])\n",
    "    print(v)                           # it will print \"[1 2 3]\"\n",
    "    print(v.T)                         # it will print \"[1 2 3]\"\n",
    "```"
   ]
  },
  {
   "cell_type": "markdown",
   "metadata": {
    "deletable": false,
    "editable": false,
    "nbgrader": {
     "cell_type": "markdown",
     "checksum": "96cb96a9abc89fd2eba2b51b0db46bc3",
     "grade": false,
     "grade_id": "cell-50916c18e4de6d10",
     "locked": true,
     "schema_version": 3,
     "solution": false,
     "task": false
    }
   },
   "source": [
    "For more information, please see the [documentation.](http://docs.scipy.org/doc/numpy/reference/routines.array-manipulation.html)"
   ]
  },
  {
   "cell_type": "markdown",
   "metadata": {
    "deletable": false,
    "editable": false,
    "nbgrader": {
     "cell_type": "markdown",
     "checksum": "eb50e7f81e4ac7f1f036156e24433116",
     "grade": false,
     "grade_id": "cell-14bf2d69f663c001",
     "locked": true,
     "schema_version": 3,
     "solution": false,
     "task": false
    }
   },
   "source": [
    "### 7.4.2 Broadcasting\n",
    "Broadcasting is a powerful mechanism that allows numpy to work with arrays of different shapes when performing arithmetic operations. Frequently we have a smaller array and a larger array, and we want to use the smaller array multiple times to perform some operation on the larger array.\n",
    "\n",
    "**Example:**\n",
    "\n",
    "Suppose that we want to add a constant vector to each row of a matrix. We could do it like this:\n",
    "\n",
    "Add the vector `b` to each row of the matrix `a` with an explicit loop:\n",
    "```python\n",
    "    a = np.array([[1,2,3], [4,5,6], [7,8,9], [10, 11, 12]])\n",
    "    b = np.array([1, 0, 1])\n",
    "  \n",
    "    for i in range(4):\n",
    "        a[i, :] = a[i, :] + b\n",
    "```\n",
    "**Exercise:**\n",
    "Transpose the array `c = [[2], [3], [4], [6]]`. Add $c^T$ to every column of `a` (store the results in `a`).  "
   ]
  },
  {
   "cell_type": "code",
   "execution_count": null,
   "metadata": {
    "deletable": false,
    "nbgrader": {
     "cell_type": "code",
     "checksum": "65ecd74a350b1e1f47b49a91dc4d423d",
     "grade": false,
     "grade_id": "cell-697e2eb16cd85894",
     "locked": false,
     "schema_version": 3,
     "solution": true,
     "task": false
    }
   },
   "outputs": [
    {
     "name": "stdout",
     "output_type": "stream",
     "text": [
      "[[ 3  4  5]\n",
      " [ 7  8  9]\n",
      " [11 12 13]\n",
      " [16 17 18]]\n"
     ]
    }
   ],
   "source": [
    "a = np.array([[1,2,3], [4,5,6], [7,8,9], [10, 11, 12]])\n",
    "c = np.array([[2], [3], [4], [6]])\n",
    "# Transpose c and reshape it to match the dimensions of a\n",
    "c_T = c.T.reshape(1, 4)\n",
    "\n",
    "# Add c_T to every column of a\n",
    "a = a + c\n",
    "\n",
    "print(a)"
   ]
  },
  {
   "cell_type": "code",
   "execution_count": null,
   "metadata": {
    "deletable": false,
    "editable": false,
    "nbgrader": {
     "cell_type": "code",
     "checksum": "c879a1946c255258393fa7d6edebf5be",
     "grade": true,
     "grade_id": "cell-2c06b28c7aa9eb9f",
     "locked": true,
     "points": 0.5,
     "schema_version": 3,
     "solution": false,
     "task": false
    }
   },
   "outputs": [],
   "source": [
    "# Do not remove this cell, we have hidden tests here"
   ]
  },
  {
   "cell_type": "markdown",
   "metadata": {
    "deletable": false,
    "editable": false,
    "nbgrader": {
     "cell_type": "markdown",
     "checksum": "09b58796a60281d6535a8e0e1f835572",
     "grade": false,
     "grade_id": "cell-9ad1dfcbe7bf0d35",
     "locked": true,
     "schema_version": 3,
     "solution": false,
     "task": false
    }
   },
   "source": [
    "This works; however, when the matrix `a` is very large, computing an explicit loop in Python could be slow. Note that adding the vector `b` to each row of the matrix `a` is equivalent to forming a matrix `bb` by stacking multiple copies of `b` vertically, then performing elementwise summation of `a` and `b`. We could implement this approach like this:\n",
    "```python\n",
    "    b = np.array([1, 0, 1])\n",
    "    bb = np.tile(b, (4, 1))   # Stack 4 copies of b on top of each other\n",
    "    print(bb)                 \n",
    "    # it will print: \n",
    "    #       [[1 0 1]\n",
    "    #        [1 0 1]\n",
    "    #        [1 0 1]\n",
    "    #        [1 0 1]]\n",
    "```                          \n",
    "**Exercise:** \n",
    "Reimplement the previous exercise without using a Python loop by creating the matrix `cc` using `np.tile` and adding it to `a`:"
   ]
  },
  {
   "cell_type": "code",
   "execution_count": null,
   "metadata": {
    "deletable": false,
    "nbgrader": {
     "cell_type": "code",
     "checksum": "6d8a24b8663903cbf6e4723136cb1dfc",
     "grade": false,
     "grade_id": "cell-7bcf3f309b768c41",
     "locked": false,
     "points": 0.25,
     "schema_version": 3,
     "solution": true,
     "task": false
    }
   },
   "outputs": [
    {
     "name": "stdout",
     "output_type": "stream",
     "text": [
      "[[ 3  4  5]\n",
      " [ 7  8  9]\n",
      " [11 12 13]\n",
      " [16 17 18]]\n"
     ]
    }
   ],
   "source": [
    "a = np.array([[1,2,3], [4,5,6], [7,8,9], [10, 11, 12]])\n",
    "c = np.array([[2], [3], [4], [6]])\n",
    "# Create the matrix cc by tiling the transposed c\n",
    "cc = np.tile(c.T, (a.shape[1], 1)).T\n",
    "\n",
    "# Add cc to a\n",
    "a = a + cc\n",
    "\n",
    "print(a)"
   ]
  },
  {
   "cell_type": "code",
   "execution_count": null,
   "metadata": {
    "deletable": false,
    "editable": false,
    "nbgrader": {
     "cell_type": "code",
     "checksum": "f7f092172acc8ec694dcc1358affb54c",
     "grade": true,
     "grade_id": "cell-de9aa27ed19ca20f",
     "locked": true,
     "points": 0.5,
     "schema_version": 3,
     "solution": false,
     "task": false
    }
   },
   "outputs": [],
   "source": [
    "# Do not remove this cell, we have hidden tests here\n",
    "assert cc.shape == (4,3)"
   ]
  },
  {
   "cell_type": "markdown",
   "metadata": {
    "deletable": false,
    "editable": false,
    "nbgrader": {
     "cell_type": "markdown",
     "checksum": "b2b8cc1738ce81d16e1787423819d497",
     "grade": false,
     "grade_id": "cell-80d7243323906e79",
     "locked": true,
     "schema_version": 3,
     "solution": false,
     "task": false
    }
   },
   "source": [
    "Numpy **broadcasting** allows us to perform this computation without actually creating multiple copies of `c`. Consider this version, using broadcasting:"
   ]
  },
  {
   "cell_type": "code",
   "execution_count": null,
   "metadata": {
    "deletable": false,
    "editable": false,
    "nbgrader": {
     "cell_type": "code",
     "checksum": "59b3af92c1741f312adeaa1216f26815",
     "grade": false,
     "grade_id": "cell-eef667d4fd01a9aa",
     "locked": true,
     "schema_version": 3,
     "solution": false,
     "task": false
    }
   },
   "outputs": [
    {
     "name": "stdout",
     "output_type": "stream",
     "text": [
      "[[ 2  2  4]\n",
      " [ 5  5  7]\n",
      " [ 8  8 10]\n",
      " [11 11 13]]\n"
     ]
    }
   ],
   "source": [
    "a = np.array([[1,2,3], [4,5,6], [7,8,9], [10, 11, 12]])\n",
    "b = np.array([1, 0, 1])\n",
    "a = a + b  # Add b to each row of a using broadcasting\n",
    "print(a)  \n",
    "# it will print\n",
    "#       [[ 2  2  4]\n",
    "#        [ 5  5  7]\n",
    "#        [ 8  8 10]\n",
    "#        [11 11 13]]"
   ]
  },
  {
   "cell_type": "markdown",
   "metadata": {},
   "source": [
    "**Exercise:** You are given the following three arrays\n",
    "\n",
    "```python\n",
    "    c = np.array([[2], [3], [4], [6]])\n",
    "    d = np.array([2, 4, 6, 8])\n",
    "    e = np.array([[3, 6, 7, 2]])\n",
    "```\n",
    "\n",
    "Each array has four elements, but each array has a distinct shape. Manipulate the shape of the arrays so that they can be added columnwise to array `a` using broadcasting. Store the results of the additions in the arrays `ac`, `ad`, and `ae` respectively.\n",
    "\n",
    "Hint 1: `ac` should be the same result as the one obtained in the previous two exercises of adding `c` to `a`.\n",
    "\n",
    "Hint 2: useful functions could be the transpose function `.T`, and the numpy reshape function (see [documentation](https://numpy.org/doc/stable/reference/generated/numpy.reshape.html))."
   ]
  },
  {
   "cell_type": "code",
   "execution_count": null,
   "metadata": {
    "deletable": false,
    "nbgrader": {
     "cell_type": "code",
     "checksum": "74f15286cc9185f2c70a232fff80c25d",
     "grade": false,
     "grade_id": "cell-4b584a2a2ba01817",
     "locked": false,
     "schema_version": 3,
     "solution": true,
     "task": false
    }
   },
   "outputs": [
    {
     "data": {
      "text/plain": [
       "(array([[ 3,  4,  5],\n",
       "        [ 7,  8,  9],\n",
       "        [11, 12, 13],\n",
       "        [16, 17, 18]]),\n",
       " array([[ 3,  4,  5],\n",
       "        [ 8,  9, 10],\n",
       "        [13, 14, 15],\n",
       "        [18, 19, 20]]),\n",
       " array([[ 4,  5,  6],\n",
       "        [10, 11, 12],\n",
       "        [14, 15, 16],\n",
       "        [12, 13, 14]]))"
      ]
     },
     "execution_count": 35,
     "metadata": {},
     "output_type": "execute_result"
    }
   ],
   "source": [
    "a = np.array([[1,2,3], [4,5,6], [7,8,9], [10, 11, 12]])\n",
    "c = np.array([[2], [3], [4], [6]])  # has shape (4,1)\n",
    "d = np.array([2, 4, 6, 8])          # has shape (4,)\n",
    "e = np.array([[3, 6, 7, 2]])        # has shape (1,4)\n",
    "\n",
    "# Adjust the shape of d and e to be compatible with a\n",
    "d_reshaped = d.reshape(-1, 1)  # (4,) to (4,1)\n",
    "e_transposed = e.T  # Transpose (1,4) to (4,1)\n",
    "\n",
    "# Perform the additions\n",
    "ac = a + c  # c already has shape (4,1), no need to reshape\n",
    "ad = a + d_reshaped  # Reshaped d to (4,1)\n",
    "ae = a + e_transposed  # Transposed e to (4,1)\n",
    "\n",
    "# Check the results\n",
    "ac, ad, ae"
   ]
  },
  {
   "cell_type": "code",
   "execution_count": null,
   "metadata": {
    "deletable": false,
    "editable": false,
    "nbgrader": {
     "cell_type": "code",
     "checksum": "b644b6d10758c689258a09044b000c93",
     "grade": true,
     "grade_id": "cell-589c645ecff29c42",
     "locked": true,
     "points": 1,
     "schema_version": 3,
     "solution": false,
     "task": false
    }
   },
   "outputs": [],
   "source": [
    "# Do not remove this cell, we have hidden tests here"
   ]
  },
  {
   "cell_type": "markdown",
   "metadata": {
    "deletable": false,
    "editable": false,
    "nbgrader": {
     "cell_type": "markdown",
     "checksum": "fe97b757e7b1996ab4a1323e0bd5ae09",
     "grade": false,
     "grade_id": "cell-09663a0387195e55",
     "locked": true,
     "schema_version": 3,
     "solution": false,
     "task": false
    }
   },
   "source": [
    "The line `a + b` works even though `a` has shape `(4, 3)` and `b` has shape `(3,)` due to broadcasting; this line works as if `b` actually had shape `(4, 3)`, where each row was a copy of `b`, and the sum was performed elementwise.\n"
   ]
  },
  {
   "cell_type": "markdown",
   "metadata": {
    "deletable": false,
    "editable": false,
    "nbgrader": {
     "cell_type": "markdown",
     "checksum": "f1853980ba8141595a99fb669b943772",
     "grade": false,
     "grade_id": "cell-cce8fd6082554d4e",
     "locked": true,
     "schema_version": 3,
     "solution": false,
     "task": false
    }
   },
   "source": [
    "**Broadcasting two arrays together follows these rules:**\n",
    "\n",
    "If the arrays do not have the same rank, prepend the shape of the lower rank array with 1s until both shapes have the same length.\n",
    "The two arrays are said to be compatible in a dimension if they have the same size in the dimension, or if one of the arrays has size 1 in that dimension.\n",
    "The arrays can be broadcast together if they are compatible in all dimensions.\n",
    "After broadcasting, each array behaves as if it had shape equal to the elementwise maximum of shapes of the two input arrays.\n",
    "In any dimension where one array had size 1 and the other array had size greater than 1, the first array behaves as if it were copied along that dimension.\n",
    "If this explanation does not make sense, try reading the explanation from the [documentation](http://docs.scipy.org/doc/numpy/user/basics.broadcasting.html) or this [explanation](http://scipy.github.io/old-wiki/pages/EricsBroadcastingDoc).\n",
    "\n",
    "Functions that support broadcasting are known as universal functions. You can find the list of all universal functions in the [documentation](http://docs.scipy.org/doc/numpy/reference/ufuncs.html#available-ufuncs).\n",
    "\n",
    "Here are some applications of broadcasting:\n",
    "\n",
    "**Compute outer product of vectors**\n",
    "```python\n",
    "    v = np.array([1,2,3])  # v has shape (3,)\n",
    "    w = np.array([4,5])    # w has shape (2,)\n",
    "```\n",
    "To compute an outer product, we first reshape `v` to be a column vector of shape `(3, 1)`; we can then broadcast it against `w` to yield an output of shape `(3, 2)`, which is the outer product of `v` and `w`:\n",
    "```python\n",
    "    [[ 4  5]\n",
    "     [ 8 10]\n",
    "     [12 15]]\n",
    "```\n",
    "\n",
    "**Add a vector to each row of a matrix**\n",
    "\n",
    "```python\n",
    "    x = np.array([[1,2,3], [4,5,6]])\n",
    "```\n",
    "`x` has shape `(2, 3)` and `v` has shape `(3,)` so they broadcast to `(2, 3)`. `x+v` gives the following matrix:\n",
    "```python\n",
    "    [[2 4 6]\n",
    "     [5 7 9]]\n",
    "```    \n",
    "**Add a vector to each column of a matrix**\n",
    "\n",
    "`x` has shape `(2, 3)` and `w` has shape `(2,)`. If we transpose `x` then it has shape `(3, 2)` and can be broadcast against `w` to yield a result of shape `(3, 2)`; transposing this result yields the final result of shape `(2, 3)` which is the matrix `x` with the vector `w` added to each column. `(x.T+w).T` gives the following matrix:\n",
    "```python\n",
    "    [[5  6   7]\n",
    "     [9 10 11]]\n",
    "```\n",
    "Another solution is to reshape `w` to be a column vector of shape `(2, 1)`; we can then broadcast it directly against `x` to produce the same output.\n",
    "\n",
    "\n",
    "**Multiply a matrix by a constant:**\n",
    "\n",
    "`x` has shape `(2, 3)`. Numpy treats scalars as arrays of shape `()`, these can be broadcast together to shape `(2, 3)`. So `x*2` produces the following array:\n",
    "```python\n",
    "    [[2  4  6]\n",
    "     [8 10 12]]\n",
    "```\n",
    "**Exercise:** \n",
    "\n",
    "* Compute outer product of `v` and `w` using broadcasting, named `u`\n",
    "* Add a vector `w` to the columns of `x`, named `z`"
   ]
  },
  {
   "cell_type": "code",
   "execution_count": null,
   "metadata": {
    "deletable": false,
    "nbgrader": {
     "cell_type": "code",
     "checksum": "274e4a96ae948872227d0aaf882b0040",
     "grade": false,
     "grade_id": "cell-22f9c684674c76bb",
     "locked": false,
     "schema_version": 3,
     "solution": true,
     "task": false
    }
   },
   "outputs": [
    {
     "data": {
      "text/plain": [
       "(array([[ 4,  5],\n",
       "        [ 8, 10],\n",
       "        [12, 15]]),\n",
       " array([[ 5,  6,  7],\n",
       "        [ 9, 10, 11]]))"
      ]
     },
     "execution_count": 36,
     "metadata": {},
     "output_type": "execute_result"
    }
   ],
   "source": [
    "v = np.array([1,2,3])  # v has shape (3,)\n",
    "w = np.array([4,5])    # w has shape (2,)\n",
    "\n",
    "# Compute the outer product\n",
    "u = v.reshape(-1, 1) * w  # Reshape v to (3,1) and broadcast with w of shape (2,)\n",
    "\n",
    "# Given matrix x\n",
    "x = np.array([[1, 2, 3], [4, 5, 6]])\n",
    "\n",
    "# Add vector w to the columns of x\n",
    "w_reshaped = w.reshape(-1, 1)  # Reshape w to (2,1) to broadcast across columns\n",
    "z = x + w_reshaped  # Broadcast addition\n",
    "\n",
    "# Check results\n",
    "u, z\n"
   ]
  },
  {
   "cell_type": "code",
   "execution_count": null,
   "metadata": {
    "deletable": false,
    "editable": false,
    "nbgrader": {
     "cell_type": "code",
     "checksum": "c2d489d6c7cd3b35df42e00993eea60c",
     "grade": true,
     "grade_id": "cell-83f3b9bcc5c92488",
     "locked": true,
     "points": 0.5,
     "schema_version": 3,
     "solution": false,
     "task": false
    }
   },
   "outputs": [],
   "source": [
    "# Do not remove this cell, we have hidden tests here"
   ]
  },
  {
   "cell_type": "markdown",
   "metadata": {
    "deletable": false,
    "editable": false,
    "nbgrader": {
     "cell_type": "markdown",
     "checksum": "f8ae4e7ab6f5bb55b030556971357eef",
     "grade": false,
     "grade_id": "cell-bdb8f90c466324cd",
     "locked": true,
     "schema_version": 3,
     "solution": false,
     "task": false
    }
   },
   "source": [
    "Broadcasting typically makes your code more concise and faster, so you should strive to use it where possible."
   ]
  },
  {
   "cell_type": "markdown",
   "metadata": {
    "deletable": false,
    "editable": false,
    "nbgrader": {
     "cell_type": "markdown",
     "checksum": "00328e0671e221373627618260cbbc07",
     "grade": false,
     "grade_id": "cell-ca3480026a0a9be8",
     "locked": true,
     "schema_version": 3,
     "solution": false,
     "task": false
    }
   },
   "source": [
    "## 7.5 Numpy Documentation\n",
    "This brief overview has touched on many of the important things that you need to know about numpy, but is far from complete. Check out the [numpy reference](http://docs.scipy.org/doc/numpy/reference/) to find out much more about numpy."
   ]
  },
  {
   "cell_type": "markdown",
   "metadata": {
    "deletable": false,
    "editable": false,
    "nbgrader": {
     "cell_type": "markdown",
     "checksum": "16a047c962291aa85bca930ceffb2f1e",
     "grade": false,
     "grade_id": "cell-84c4eee7a68bdc1a",
     "locked": true,
     "schema_version": 3,
     "solution": false,
     "task": false
    }
   },
   "source": [
    "# 8 SciPy\n",
    "Numpy provides a high-performance multidimensional array and basic tools to compute with and manipulate these arrays. [SciPy](http://docs.scipy.org/doc/scipy/reference/) builds on this, and provides a large number of functions that operate on numpy arrays and are useful for different types of scientific and engineering applications.\n",
    "\n",
    "The best way to get familiar with SciPy is to browse the [documentation](http://docs.scipy.org/doc/scipy/reference/index.html). We will highlight some parts of SciPy that you might find useful for this class.\n",
    "\n",
    "## 8.1 MATLAB files\n",
    "The functions `scipy.io.loadmat` and `scipy.io.savemat` allow you to read and write MATLAB files. You can read about them in the [documentation](http://docs.scipy.org/doc/scipy/reference/io.html).\n",
    "\n",
    "## 8.2 Distance between points\n",
    "SciPy defines some useful functions for computing distances between sets of points.\n",
    "\n",
    "The function `scipy.spatial.distance.pdist` computes the distance between all pairs of points in a given set. The return of this function is a distance vector.\n",
    "\n",
    "For better interpretability of the distances obtained with the above function, one can use `scipy.spatial.distance.squareform` to transform the distance vector into a distance matrix.\n",
    "\n",
    "Create the following array `x` where each row is a point in 2D space:\n",
    "```python\n",
    "    x = np.array([[0 1],\n",
    "                  [1 0],\n",
    "                  [2 0]]\n",
    "```\n",
    "\n",
    "Compute the Euclidean distance between all rows of `x`. `d[i, j]` is the Euclidean distance between `x[i, :]` and `x[j, :]`, and `d` is the following array:\n",
    "```python\n",
    "    [[ 0.          1.41421356  2.23606798]\n",
    "     [ 1.41421356  0.          1.        ]\n",
    "     [ 2.23606798  1.          0.        ]]\n",
    "```"
   ]
  },
  {
   "cell_type": "code",
   "execution_count": null,
   "metadata": {},
   "outputs": [
    {
     "name": "stdout",
     "output_type": "stream",
     "text": [
      "[[0 1]\n",
      " [1 0]\n",
      " [2 0]]\n",
      "[[0.         1.41421356 2.23606798]\n",
      " [1.41421356 0.         1.        ]\n",
      " [2.23606798 1.         0.        ]]\n"
     ]
    }
   ],
   "source": [
    "import numpy as np\n",
    "from scipy.spatial.distance import pdist, squareform\n",
    "\n",
    "x = np.array([[0, 1], [1, 0], [2, 0]])\n",
    "print(x)\n",
    "\n",
    "d = squareform(pdist(x, 'euclidean'))\n",
    "print(d)"
   ]
  },
  {
   "cell_type": "markdown",
   "metadata": {
    "deletable": false,
    "editable": false,
    "nbgrader": {
     "cell_type": "markdown",
     "checksum": "1769f4cb9479dbff56b8047db0d7e8bf",
     "grade": false,
     "grade_id": "cell-db4cabc29a3b3654",
     "locked": true,
     "schema_version": 3,
     "solution": false,
     "task": false
    }
   },
   "source": [
    "You can read all the details about these functions in the [documentation](http://docs.scipy.org/doc/scipy/reference/generated/scipy.spatial.distance.pdist.html) of pdist and the [documentation](https://docs.scipy.org/doc/scipy/reference/generated/scipy.spatial.distance.squareform.html) of square form.\n",
    "\n",
    "A similar function `scipy.spatial.distance.cdist` computes the distance between all pairs across two sets of points; you can read about it in the [documentation](http://docs.scipy.org/doc/scipy/reference/generated/scipy.spatial.distance.cdist.html)."
   ]
  },
  {
   "cell_type": "markdown",
   "metadata": {
    "deletable": false,
    "editable": false,
    "nbgrader": {
     "cell_type": "markdown",
     "checksum": "f9d0afe1bdb4e5af669d7e25c14234d1",
     "grade": false,
     "grade_id": "cell-329685b85b47e4c7",
     "locked": true,
     "schema_version": 3,
     "solution": false,
     "task": false
    }
   },
   "source": [
    "# 9 Matplotlib\n",
    "\n",
    "[Matplotlib](http://matplotlib.org/) is a plotting library. In this section we give a brief introduction to the <strong>matplotlib.pyplot</strong> module, which provides a plotting system similar to that of MATLAB.\n",
    "\n",
    "## 9.1 Plotting\n",
    "The function `plot` allows you to plot 2D data. Here is a simple example:"
   ]
  },
  {
   "cell_type": "code",
   "execution_count": null,
   "metadata": {},
   "outputs": [],
   "source": [
    "import numpy as np\n",
    "import matplotlib.pyplot as plt\n",
    "\n",
    "# Compute the x and y coordinates for points on a sine curve\n",
    "x = np.arange(0, 3 * np.pi, 0.1)\n",
    "y = np.sin(x)\n",
    "\n",
    "# Plot the points using matplotlib\n",
    "plt.plot(x, y)\n",
    "plt.show()  # You must call plt.show() to make graphics appear."
   ]
  },
  {
   "cell_type": "markdown",
   "metadata": {
    "deletable": false,
    "editable": false,
    "nbgrader": {
     "cell_type": "markdown",
     "checksum": "4570071dc162cfbca227f60cc6c21e0f",
     "grade": false,
     "grade_id": "cell-87d4f7968e59d76d",
     "locked": true,
     "schema_version": 3,
     "solution": false,
     "task": false
    }
   },
   "source": [
    "With just a little bit of extra work we can easily plot multiple lines at once, and add a title, legend, and axis labels:"
   ]
  },
  {
   "cell_type": "code",
   "execution_count": null,
   "metadata": {},
   "outputs": [],
   "source": [
    "import numpy as np\n",
    "import matplotlib.pyplot as plt\n",
    "\n",
    "# Compute the x and y coordinates for points on sine and cosine curves\n",
    "x = np.arange(0, 3 * np.pi, 0.1)\n",
    "y_sin = np.sin(x)\n",
    "y_cos = np.cos(x)\n",
    "\n",
    "# Plot the points using matplotlib\n",
    "plt.plot(x, y_sin)\n",
    "plt.plot(x, y_cos)\n",
    "plt.xlabel('x axis label')\n",
    "plt.ylabel('y axis label')\n",
    "plt.title('Sine and Cosine')\n",
    "plt.legend(['Sine', 'Cosine'])\n",
    "plt.show()"
   ]
  },
  {
   "cell_type": "markdown",
   "metadata": {
    "deletable": false,
    "editable": false,
    "nbgrader": {
     "cell_type": "markdown",
     "checksum": "900bd3b4cafbfb1bd83abfca541ef158",
     "grade": false,
     "grade_id": "cell-e8fbcd35df24ecba",
     "locked": true,
     "schema_version": 3,
     "solution": false,
     "task": false
    }
   },
   "source": [
    "You can read much more about the <strong>plot</strong> function in the [documentation](https://matplotlib.org/2.0.2/api/pyplot_api.html#matplotlib.pyplot.plot)."
   ]
  },
  {
   "cell_type": "markdown",
   "metadata": {
    "deletable": false,
    "editable": false,
    "nbgrader": {
     "cell_type": "markdown",
     "checksum": "6d5f9cd5e6ea605ca57b0b951849bc14",
     "grade": false,
     "grade_id": "cell-ed9e3272b78375b0",
     "locked": true,
     "schema_version": 3,
     "solution": false,
     "task": false
    }
   },
   "source": [
    "## 9.2 Subplots\n",
    "You can plot different things in the same figure using the `subplot` function. Here is an example:"
   ]
  },
  {
   "cell_type": "code",
   "execution_count": null,
   "metadata": {},
   "outputs": [],
   "source": [
    "import numpy as np\n",
    "import matplotlib.pyplot as plt\n",
    "\n",
    "# Compute the x and y coordinates for points on sine and cosine curves\n",
    "x = np.arange(0, 3 * np.pi, 0.1)\n",
    "y_sin = np.sin(x)\n",
    "y_cos = np.cos(x)\n",
    "\n",
    "# Set up a subplot grid that has height 2 and width 1,\n",
    "# and set the first such subplot as active.\n",
    "plt.subplot(2, 1, 1)\n",
    "\n",
    "# Make the first plot\n",
    "plt.plot(x, y_sin)\n",
    "plt.title('Sine')\n",
    "\n",
    "# Set the second subplot as active, and make the second plot.\n",
    "plt.subplot(2, 1, 2)\n",
    "plt.plot(x, y_cos)\n",
    "plt.title('Cosine')\n",
    "\n",
    "# Show the figure.\n",
    "plt.show()"
   ]
  },
  {
   "cell_type": "markdown",
   "metadata": {
    "deletable": false,
    "editable": false,
    "nbgrader": {
     "cell_type": "markdown",
     "checksum": "3f5c96d9af879eaecaa1cccd985d97f4",
     "grade": false,
     "grade_id": "cell-9869d58efd03bf2d",
     "locked": true,
     "schema_version": 3,
     "solution": false,
     "task": false
    }
   },
   "source": [
    "You can read much more about the `subplot` function in the [documentation](https://matplotlib.org/2.0.2/api/pyplot_api.html#matplotlib.pyplot.subplot)."
   ]
  },
  {
   "attachments": {
    "image.png": {
     "image/png": "[encoded data removed]"
    }
   },
   "cell_type": "markdown",
   "metadata": {
    "deletable": false,
    "editable": false,
    "nbgrader": {
     "cell_type": "markdown",
     "checksum": "43e3899d9608145097f2608eb8d7ae17",
     "grade": false,
     "grade_id": "cell-22321312c7f53e55",
     "locked": true,
     "schema_version": 3,
     "solution": false,
     "task": false
    }
   },
   "source": [
    "**Exercise:** \n",
    "\n",
    "Create a linearly spaced numpy array with 100 values ranging from -5 to +5 and show a subplot of functions $x^2$ and $x^3$ as shown below.\n",
    "\n",
    "To adjust the axis spines of the plot, you can use commands e.g., `ax.spines['left'].set_position('center')`. If you want to remove any of the axis spine, you may write `ax.spines['right'].set_color('none')`.\n",
    "\n",
    "![image.png](attachment:image.png)"
   ]
  },
  {
   "cell_type": "code",
   "execution_count": null,
   "metadata": {
    "deletable": false,
    "nbgrader": {
     "cell_type": "code",
     "checksum": "c380f42e19b01f123329d4f5f0e8e590",
     "grade": true,
     "grade_id": "cell-b7da1df7e1331e59",
     "locked": false,
     "points": 2,
     "schema_version": 3,
     "solution": true,
     "task": false
    }
   },
   "outputs": [],
   "source": [
    "import matplotlib.pyplot as plt\n",
    "import numpy as np\n",
    "\n",
    "# YOUR CODE HERE\n",
    "raise NotImplementedError()"
   ]
  },
  {
   "cell_type": "markdown",
   "metadata": {
    "deletable": false,
    "editable": false,
    "nbgrader": {
     "cell_type": "markdown",
     "checksum": "b1a54ac04ffaff3f0c6757957f6dfccc",
     "grade": false,
     "grade_id": "cell-b65346061bc06715",
     "locked": true,
     "schema_version": 3,
     "solution": false,
     "task": false
    }
   },
   "source": [
    "## 9.3 Images\n",
    "You can use the `imshow` function to show images. Here is an example:\n",
    "```python\n",
    "    import numpy as np\n",
    "    import matplotlib.pyplot as plt\n",
    "    \n",
    "    img = plt.imread('assets/cat.jpg')\n",
    "    img_tinted = img * [1, 0.95, 0.9]\n",
    "    \n",
    "    # Show the original image\n",
    "    plt.subplot(1, 2, 1)\n",
    "    plt.imshow(img)\n",
    "    \n",
    "    # Show the tinted image\n",
    "    plt.subplot(1, 2, 2)\n",
    "    \n",
    "    # A slight gotcha with imshow is that it might give strange results\n",
    "    # if presented with data that is not uint8. To work around this, we\n",
    "    # explicitly cast the image to uint8 before displaying it.\n",
    "    \n",
    "    plt.imshow(np.uint8(img_tinted))\n",
    "    plt.show()\n",
    "```\n",
    "![two_cats.png](./assets/two_cats.png)\n",
    "\n",
    "**Exercise:** \n",
    "Load the Siamese cat image `Siamese_cat.jpg` and brighten (add values to color channel) the image. Lastly, plot the original and brightened images next to each other.\n",
    "\n",
    "**Note:** Please use the relative file path to load the image, the image path should be `assets/Siamese_cat.jpg`."
   ]
  },
  {
   "cell_type": "code",
   "execution_count": null,
   "metadata": {
    "deletable": false,
    "nbgrader": {
     "cell_type": "code",
     "checksum": "652011f3ff2d1f3725ca933866766038",
     "grade": true,
     "grade_id": "cell-08c529518839204c",
     "locked": false,
     "points": 1,
     "schema_version": 3,
     "solution": true,
     "task": false
    }
   },
   "outputs": [],
   "source": [
    "import numpy as np\n",
    "import matplotlib.pyplot as plt\n",
    "\n",
    "# YOUR CODE HERE\n",
    "raise NotImplementedError()"
   ]
  },
  {
   "cell_type": "markdown",
   "metadata": {
    "deletable": false,
    "editable": false,
    "nbgrader": {
     "cell_type": "markdown",
     "checksum": "ae4a40dac827ae588885387694e7fdb0",
     "grade": false,
     "grade_id": "cell-cd9e228c946fd744",
     "locked": true,
     "schema_version": 3,
     "solution": false,
     "task": false
    }
   },
   "source": [
    "# 10 Scikit-Image\n",
    "`scikit-image` is a collection of algorithms for image processing for the Python programming language. It includes algorithms for segmentation, geometric transformations, color space manipulation, analysis, filtering, morphology, feature detection, and more. It is designed to interoperate with the Python numerical and scientific libraries NumPy and SciPy. We implement some functions from `scikit-image` in the following:\n",
    "\n",
    "## 10.1 Image Operations\n",
    "\n",
    "`rescale` operation resizes an image by a given scaling factor. The scaling factor can either be a single floating point value, or multiple values - one along each axis.\n",
    "\n",
    "`resize` serves the same purpose, but allows to specify an output image shape instead of a scaling factor.\n",
    "\n",
    "`rgb2gray` operation converts an image with RGB channels into an image with a single grayscale channel.\n",
    "\n",
    "## 10.2 Note on ModuleNotFoundError\n",
    "It might be possible that the scikit-image package is not yet installed in your enviroment. Trying to import a package which is not installed results in: `ModuleNotFoundError: No module named 'skimage'`. In that case run the following command in your activated environment:\n",
    "```shell\n",
    "      conda install scikit-image\n",
    "```"
   ]
  },
  {
   "cell_type": "code",
   "execution_count": null,
   "metadata": {},
   "outputs": [],
   "source": [
    "import matplotlib.pyplot as plt\n",
    "\n",
    "from skimage import data\n",
    "from skimage.color import rgb2gray\n",
    "from skimage.transform import rescale, resize\n",
    "\n",
    "image = plt.imread('assets/cat.jpg')\n",
    "\n",
    "image_rescaled = rescale(image, scale=(0.25, 0.25, 1))\n",
    "\n",
    "grayscale = rgb2gray(image)\n",
    "\n",
    "image_resized = resize(image, (image.shape[0] // 4, image.shape[1] // 4))\n",
    "\n",
    "fig, axes = plt.subplots(nrows=2, ncols=2)\n",
    "\n",
    "ax = axes.ravel()\n",
    "\n",
    "ax[0].imshow(image)\n",
    "ax[0].set_title(\"Original image\")\n",
    "\n",
    "ax[1].imshow(grayscale, cmap=plt.cm.gray)\n",
    "ax[1].set_title(\"grayscale image\")\n",
    "\n",
    "ax[2].imshow(image_rescaled)\n",
    "ax[2].set_title(\"Rescaled image\")\n",
    "\n",
    "ax[3].imshow(image_resized)\n",
    "ax[3].set_title(\"Resized image\")\n",
    "\n",
    "# ax[0].set_xlim(0, 512)\n",
    "# ax[0].set_ylim(512, 0)\n",
    "plt.tight_layout()\n",
    "plt.show()"
   ]
  },
  {
   "cell_type": "markdown",
   "metadata": {
    "deletable": false,
    "editable": false,
    "nbgrader": {
     "cell_type": "markdown",
     "checksum": "0ef35decf86d5d72153bf5d37920735f",
     "grade": false,
     "grade_id": "cell-234f26745ccd01af",
     "locked": true,
     "schema_version": 3,
     "solution": false,
     "task": false
    }
   },
   "source": [
    "**Q:**\n",
    "Why do all images appear to be of the same size on the screen, even for the ones where the rescale and resize operations were applied?\n",
    "\n",
    "Hint: try uncommenting the lines with `ax[0].set_xlim(0, 512)` and `ax[0].set_ylim(512, 0)`. You can also try changing the axis `ax[i]` on which the function is applied. For information on the two functions, see the [documentation](https://matplotlib.org/stable/api/_as_gen/matplotlib.axes.Axes.set_xlim.html) for `set_xlim` and the [documentation](https://matplotlib.org/stable/api/_as_gen/matplotlib.axes.Axes.set_ylim.html) for `set_ylim`."
   ]
  },
  {
   "cell_type": "code",
   "execution_count": null,
   "metadata": {
    "deletable": false,
    "nbgrader": {
     "cell_type": "code",
     "checksum": "ffa8a260467e6c6f798bce15d7a5cb9a",
     "grade": false,
     "grade_id": "cell-8e2f7661417c6d78",
     "locked": false,
     "schema_version": 3,
     "solution": true,
     "task": false
    }
   },
   "outputs": [],
   "source": [
    "# answer by uncommenting only the correct option from this block below\n",
    "\n",
    "ANSWER_CAUSE_OF_IMAGE_SIZES = 'no answer given yet ...'\n",
    "# ANSWER_CAUSE_OF_IMAGE_SIZES = 'the operations had no effect on the image size'\n",
    "# ANSWER_CAUSE_OF_IMAGE_SIZES = 'there is a bug in the code for displaying the images'\n",
    "# ANSWER_CAUSE_OF_IMAGE_SIZES = 'the image axes were scaled by default'\n",
    "\n",
    "# YOUR CODE HERE\n",
    "raise NotImplementedError()"
   ]
  },
  {
   "cell_type": "code",
   "execution_count": null,
   "metadata": {
    "deletable": false,
    "editable": false,
    "nbgrader": {
     "cell_type": "code",
     "checksum": "8aa97ea81072d813c21c8542215b7cff",
     "grade": true,
     "grade_id": "cell-f8a3749bd149d2a8",
     "locked": true,
     "points": 1,
     "schema_version": 3,
     "solution": false,
     "task": false
    }
   },
   "outputs": [],
   "source": [
    "print('Your answer: ', ANSWER_CAUSE_OF_IMAGE_SIZES)\n",
    "\n",
    "# to answer, you should have selected one of the three options ...\n",
    "assert(ANSWER_CAUSE_OF_IMAGE_SIZES in ('the operations had no effect on the image size', \n",
    "                                       'there is a bug in the code for displaying the images', \n",
    "                                       'the image axes were scaled by default'))\n"
   ]
  },
  {
   "cell_type": "markdown",
   "metadata": {
    "deletable": false,
    "editable": false,
    "nbgrader": {
     "cell_type": "markdown",
     "checksum": "a85a815b3372cf7d41e5f3872619a258",
     "grade": false,
     "grade_id": "cell-7abfca689f9df5dc",
     "locked": true,
     "schema_version": 3,
     "solution": false,
     "task": false
    }
   },
   "source": [
    "## 10.3 Simple robot learning example\n",
    "The dataset `training_data.mat` is from a simple simulation of a two degree of freedom robot that is tracking an ellipse."
   ]
  },
  {
   "cell_type": "markdown",
   "metadata": {
    "deletable": false,
    "editable": false,
    "nbgrader": {
     "cell_type": "markdown",
     "checksum": "457e6c3fb5753b1314171a03d2aee339",
     "grade": false,
     "grade_id": "cell-058ae0e65ef8d244",
     "locked": true,
     "schema_version": 3,
     "solution": false,
     "task": false
    }
   },
   "source": [
    "![RobotAnim](assets/robot_anim.gif \"RobotAnim\")"
   ]
  },
  {
   "cell_type": "markdown",
   "metadata": {
    "deletable": false,
    "editable": false,
    "nbgrader": {
     "cell_type": "markdown",
     "checksum": "e98f8b244a591b8ba3eb3dbbcb39d0f2",
     "grade": false,
     "grade_id": "cell-187e0de05854e6d8",
     "locked": true,
     "schema_version": 3,
     "solution": false,
     "task": false
    }
   },
   "source": [
    "The file contains a number of matrices\n",
    "* `th`: joint angles/positions\n",
    "* `th_d`: joint veclocities\n",
    "* `th_dd`: joint accelerations\n",
    "* `tau`: joint torques\n",
    "* `x`: Cartesian position of the end-effector\n",
    "* `x_d`: Cartesian velocity of the end-effector\n",
    "* `x_dd`: Cartesian acceleration of the end-effector\n",
    "\n",
    "We now want to learn a very simple feedforward controller, that is a function that maps from joint positions to joint torques.\n",
    "\n"
   ]
  },
  {
   "cell_type": "markdown",
   "metadata": {
    "deletable": false,
    "editable": false,
    "nbgrader": {
     "cell_type": "markdown",
     "checksum": "bea7446ee1e395ce548b52ac91de35ed",
     "grade": false,
     "grade_id": "cell-f3f9678addc4acc1",
     "locked": true,
     "schema_version": 3,
     "solution": false,
     "task": false
    }
   },
   "source": [
    "**Exercise:** \n",
    "Load the dataset using the `scipy` functionality for loading MATLAB files described above. Extract `th` and `tau` to NumPy arrays of the same name.\n",
    "\n",
    "**Note**: please use the relative file path to load the data, the data path should be `assets/training_data.mat`."
   ]
  },
  {
   "cell_type": "code",
   "execution_count": 50,
   "metadata": {
    "deletable": false,
    "nbgrader": {
     "cell_type": "code",
     "checksum": "f6856a09806376cb47182507210d5ffe",
     "grade": false,
     "grade_id": "cell-159d270ea071b93f",
     "locked": false,
     "schema_version": 3,
     "solution": true,
     "task": false
    }
   },
   "outputs": [
    {
     "name": "stdout",
     "output_type": "stream",
     "text": [
      "Shape of th: (2, 334)\n",
      "Shape of tau: (2, 334)\n"
     ]
    }
   ],
   "source": [
    "import scipy.io as sio\n",
    "\n",
    "# Load the dataset\n",
    "data_path = 'assets/training_data.mat'\n",
    "data = sio.loadmat(data_path)\n",
    "\n",
    "# Extract 'th' and 'tau' to NumPy arrays\n",
    "th = data['th']\n",
    "tau = data['tau']\n",
    "\n",
    "# Print the shapes to ensure correct extraction\n",
    "print(\"Shape of th:\", th.shape)\n",
    "print(\"Shape of tau:\", tau.shape)"
   ]
  },
  {
   "cell_type": "code",
   "execution_count": 51,
   "metadata": {
    "deletable": false,
    "editable": false,
    "nbgrader": {
     "cell_type": "code",
     "checksum": "58a0120eb2a10aaf3f46ab729eca4503",
     "grade": true,
     "grade_id": "cell-fd2a9372d4afe943",
     "locked": true,
     "points": 1,
     "schema_version": 3,
     "solution": false,
     "task": false
    }
   },
   "outputs": [],
   "source": [
    "assert np.abs(th[0,0]-1.1299591748647653)<0.001\n",
    "assert np.abs(tau[0,100]-82.7710545117184)<0.001"
   ]
  },
  {
   "cell_type": "markdown",
   "metadata": {},
   "source": [
    "# 11 Lecture 1A - Bad Data\n",
    "The following exercises are based on the content of the lecture 1A."
   ]
  },
  {
   "cell_type": "markdown",
   "metadata": {
    "deletable": false,
    "editable": false,
    "nbgrader": {
     "cell_type": "markdown",
     "checksum": "133582e34b8a95638780d19f46107067",
     "grade": false,
     "grade_id": "cell-8a667cac0f607fd3",
     "locked": true,
     "schema_version": 3,
     "solution": false,
     "task": false
    }
   },
   "source": [
    "**Exercise:** \n",
    "Plot the joint angles of the first degree of freedom (over the samples)"
   ]
  },
  {
   "cell_type": "code",
   "execution_count": 52,
   "metadata": {
    "deletable": false,
    "nbgrader": {
     "cell_type": "code",
     "checksum": "6125618c10ed030ac30689596d5874e3",
     "grade": true,
     "grade_id": "cell-6e49bb28851d1b7f",
     "locked": false,
     "points": 0.25,
     "schema_version": 3,
     "solution": true,
     "task": false
    }
   },
   "outputs": [
    {
     "name": "stderr",
     "output_type": "stream",
     "text": [
      "Fontconfig warning: ignoring UTF-8: not a valid region tag\n",
      "Matplotlib is building the font cache; this may take a moment.\n"
     ]
    },
    {
     "data": {
      "image/png": "[encoded data removed]",
      "text/plain": [
       "<Figure size 1000x600 with 1 Axes>"
      ]
     },
     "metadata": {},
     "output_type": "display_data"
    }
   ],
   "source": [
    "import matplotlib.pyplot as plt\n",
    "\n",
    "# Plot joint angles of the first degree of freedom (first row of th)\n",
    "plt.figure(figsize=(10, 6))\n",
    "plt.plot(th[0, :], label=\"Joint Angle (1st DOF)\")\n",
    "plt.title(\"Joint Angles of the First Degree of Freedom\")\n",
    "plt.xlabel(\"Samples\")\n",
    "plt.ylabel(\"Joint Angle (rad)\")\n",
    "plt.legend()\n",
    "plt.grid(True)\n",
    "plt.show()"
   ]
  },
  {
   "cell_type": "markdown",
   "metadata": {
    "deletable": false,
    "editable": false,
    "nbgrader": {
     "cell_type": "markdown",
     "checksum": "1cfffae8dcd8b25aeb39b4b0adcae29b",
     "grade": false,
     "grade_id": "cell-6376eb6a59e311fd",
     "locked": true,
     "schema_version": 3,
     "solution": false,
     "task": false
    }
   },
   "source": [
    "**Exercise:** \n",
    "Plot the torques of the first degree of freedom (over the samples)"
   ]
  },
  {
   "cell_type": "code",
   "execution_count": 53,
   "metadata": {
    "deletable": false,
    "nbgrader": {
     "cell_type": "code",
     "checksum": "aeedceb4a20236558177c9fa8f7cfc31",
     "grade": true,
     "grade_id": "cell-6ae4a5000dc8d4ca",
     "locked": false,
     "points": 0.25,
     "schema_version": 3,
     "solution": true,
     "task": false
    }
   },
   "outputs": [
    {
     "data": {
      "image/png": "[encoded data removed]",
      "text/plain": [
       "<Figure size 1000x600 with 1 Axes>"
      ]
     },
     "metadata": {},
     "output_type": "display_data"
    }
   ],
   "source": [
    "# Plot torques of the first degree of freedom (first row of tau)\n",
    "plt.figure(figsize=(10, 6))\n",
    "plt.plot(tau[0, :], label=\"Torque (1st DOF)\", color='orange')\n",
    "plt.title(\"Torques of the First Degree of Freedom\")\n",
    "plt.xlabel(\"Samples\")\n",
    "plt.ylabel(\"Torque (Nm)\")\n",
    "plt.legend()\n",
    "plt.grid(True)\n",
    "plt.show()"
   ]
  },
  {
   "cell_type": "markdown",
   "metadata": {
    "deletable": false,
    "editable": false,
    "nbgrader": {
     "cell_type": "markdown",
     "checksum": "48433b174521e983297e2c7551ec456e",
     "grade": false,
     "grade_id": "cell-fa2439cb49df91bf",
     "locked": true,
     "schema_version": 3,
     "solution": false,
     "task": false
    }
   },
   "source": [
    "**Exercise:** \n",
    "\n",
    "Now let's try applying **Scikit-Learn** blindly (following the example in Chapter 1). \n",
    "\n",
    "First we need to get the training data in the right format:\n",
    "Use the joint angles of the first degree of freedom for the inputs `X` and the torques of the first joint as outputs `y`. Implement `X` and `y` as column vectors, i.e. (n,1) arrays."
   ]
  },
  {
   "cell_type": "code",
   "execution_count": 54,
   "metadata": {
    "deletable": false,
    "nbgrader": {
     "cell_type": "code",
     "checksum": "f77499760f2ff249295258b2257fe2da",
     "grade": false,
     "grade_id": "cell-f68a86b6a9538e86",
     "locked": false,
     "schema_version": 3,
     "solution": true,
     "task": false
    }
   },
   "outputs": [
    {
     "data": {
      "text/plain": [
       "((334, 1), (334, 1))"
      ]
     },
     "execution_count": 54,
     "metadata": {},
     "output_type": "execute_result"
    }
   ],
   "source": [
    "# Prepare the inputs (joint angles) and outputs (torques) as column vectors\n",
    "X = th[0, :].reshape(-1, 1)  # Joint angles of the first degree of freedom (n, 1)\n",
    "y = tau[0, :].reshape(-1, 1)  # Torques of the first degree of freedom (n, 1)\n",
    "\n",
    "# Check the shapes of X and y\n",
    "X.shape, y.shape"
   ]
  },
  {
   "cell_type": "code",
   "execution_count": 55,
   "metadata": {
    "deletable": false,
    "editable": false,
    "nbgrader": {
     "cell_type": "code",
     "checksum": "df39d122db9d6748b2a6da97f8337b9d",
     "grade": true,
     "grade_id": "cell-a4ab34022d90d5a0",
     "locked": true,
     "points": 0.25,
     "schema_version": 3,
     "solution": false,
     "task": false
    }
   },
   "outputs": [],
   "source": [
    "assert isinstance(X,np.ndarray)\n",
    "assert X.shape==(334, 1)"
   ]
  },
  {
   "cell_type": "markdown",
   "metadata": {
    "deletable": false,
    "editable": false,
    "nbgrader": {
     "cell_type": "markdown",
     "checksum": "f689312b276dca020bf241aed3953e35",
     "grade": false,
     "grade_id": "cell-d8eabe39eb3f8307",
     "locked": true,
     "schema_version": 3,
     "solution": false,
     "task": false
    }
   },
   "source": [
    "**Exercise:** \n",
    "train a linear regression model using `sklearn` on training data $(X,y)$.\n",
    "See the [documentation](https://scikit-learn.org/stable/modules/generated/sklearn.linear_model.LinearRegression.html)."
   ]
  },
  {
   "cell_type": "code",
   "execution_count": 56,
   "metadata": {
    "deletable": false,
    "nbgrader": {
     "cell_type": "code",
     "checksum": "280e4b42960d6742a21c69f198cbde57",
     "grade": false,
     "grade_id": "cell-9e924f6e6fc1b74f",
     "locked": false,
     "schema_version": 3,
     "solution": true,
     "task": false
    }
   },
   "outputs": [
    {
     "data": {
      "text/plain": [
       "(array([[-14.57838171]]), array([49.61840443]))"
      ]
     },
     "execution_count": 56,
     "metadata": {},
     "output_type": "execute_result"
    }
   ],
   "source": [
    "from sklearn.linear_model import LinearRegression\n",
    "\n",
    "# Initialize and train the linear regression model\n",
    "model_lin = LinearRegression()\n",
    "model_lin.fit(X, y)\n",
    "\n",
    "# Output the coefficients and intercept of the trained model\n",
    "model_lin.coef_, model_lin.intercept_"
   ]
  },
  {
   "cell_type": "code",
   "execution_count": 57,
   "metadata": {
    "deletable": false,
    "editable": false,
    "nbgrader": {
     "cell_type": "code",
     "checksum": "9fcc8f5c76dabe8c317fed2fa5b62243",
     "grade": true,
     "grade_id": "cell-61cc24f2fc86b5fc",
     "locked": true,
     "points": 0.5,
     "schema_version": 3,
     "solution": false,
     "task": false
    }
   },
   "outputs": [],
   "source": [
    "import sklearn\n",
    "assert isinstance(model_lin, sklearn.linear_model.LinearRegression)"
   ]
  },
  {
   "cell_type": "markdown",
   "metadata": {
    "deletable": false,
    "editable": false,
    "nbgrader": {
     "cell_type": "markdown",
     "checksum": "7439e02652411dbf2bc4966f8f50fb5a",
     "grade": false,
     "grade_id": "cell-3adcdf66a45f886a",
     "locked": true,
     "schema_version": 3,
     "solution": false,
     "task": false
    }
   },
   "source": [
    "**Exercise:** \n",
    "\n",
    "Now apply the trained linear model to predict the target values for the original input data $X$. Since we might also obtain predictions of other models in the future, it is good custom to store the predictions in a clearly named variable associated with the model, e.g. `y_pred_lin` (with `lin` to indicate this is the Linear Regression) instead of just `y_pred`.\n",
    "\n",
    "Then calculate the Root Mean Squared Error (RMSE) of the model on the training data using the function you created above and assign it to the variable `rmse_lin`. In other words, use the RMSE to summarize how well the model's predictions on the training input $X$ match the true output values $y$.\n",
    "\n",
    "**Note:** If you did not manage to create the RMSE function earlier, you can use `sklearn.metrics.mean_squared_error`([doc](https://scikit-learn.org/stable/modules/generated/sklearn.metrics.mean_squared_error.html)) with the option `squared=False` instead."
   ]
  },
  {
   "cell_type": "code",
   "execution_count": 58,
   "metadata": {
    "deletable": false,
    "nbgrader": {
     "cell_type": "code",
     "checksum": "c16289fc938e16a2bccad2c5b69d7285",
     "grade": false,
     "grade_id": "cell-949dd64cdaeb049e",
     "locked": false,
     "schema_version": 3,
     "solution": true,
     "task": false
    }
   },
   "outputs": [
    {
     "name": "stderr",
     "output_type": "stream",
     "text": [
      "/Users/harshbhatia/Documents/RO47002/Practicums/env/lib/python3.10/site-packages/sklearn/metrics/_regression.py:492: FutureWarning: 'squared' is deprecated in version 1.4 and will be removed in 1.6. To calculate the root mean squared error, use the function'root_mean_squared_error'.\n",
      "  warnings.warn(\n"
     ]
    },
    {
     "data": {
      "text/plain": [
       "np.float64(139.08026218037347)"
      ]
     },
     "execution_count": 58,
     "metadata": {},
     "output_type": "execute_result"
    }
   ],
   "source": [
    "from sklearn.metrics import mean_squared_error\n",
    "\n",
    "# Predict the target values for the original input data using the trained linear model\n",
    "y_pred_lin = model_lin.predict(X)\n",
    "\n",
    "# Calculate the RMSE for the model's predictions\n",
    "rmse_lin = mean_squared_error(y, y_pred_lin, squared=False)\n",
    "\n",
    "# Output the RMSE\n",
    "rmse_lin"
   ]
  },
  {
   "cell_type": "code",
   "execution_count": 59,
   "metadata": {
    "deletable": false,
    "editable": false,
    "nbgrader": {
     "cell_type": "code",
     "checksum": "ec9e0d9994f176de13c36255229745c7",
     "grade": true,
     "grade_id": "cell-2df19e03a3834c68",
     "locked": true,
     "points": 0.25,
     "schema_version": 3,
     "solution": false,
     "task": false
    }
   },
   "outputs": [],
   "source": [
    "# Do not remove this cell, we have hidden tests here\n",
    "assert(rmse_lin != None)\n"
   ]
  },
  {
   "cell_type": "markdown",
   "metadata": {
    "deletable": false,
    "editable": false,
    "nbgrader": {
     "cell_type": "markdown",
     "checksum": "9d8dade12c95fc290d74f720999f4235",
     "grade": false,
     "grade_id": "cell-321af0642bab9022",
     "locked": true,
     "schema_version": 3,
     "solution": false,
     "task": false
    }
   },
   "source": [
    "**Q**: What kind of learning method have we applied here? Hint: See introductory lecture."
   ]
  },
  {
   "cell_type": "code",
   "execution_count": 61,
   "metadata": {
    "deletable": false,
    "nbgrader": {
     "cell_type": "code",
     "checksum": "0ce04e9128481a2d50fa453786649412",
     "grade": false,
     "grade_id": "cell-24f9a6930d7524d2",
     "locked": false,
     "schema_version": 3,
     "solution": true,
     "task": false
    }
   },
   "outputs": [],
   "source": [
    "# answer by uncommenting only the correct option from this block below\n",
    "# ANSWER_TYPE_OF_LEARNING = 'no answer given yet ...'\n",
    "ANSWER_TYPE_OF_LEARNING = 'Supervised'\n",
    "#ANSWER_TYPE_OF_LEARNING = 'Unsupervised'\n",
    "#ANSWER_TYPE_OF_LEARNING = 'Reinforcement'\n"
   ]
  },
  {
   "cell_type": "code",
   "execution_count": 62,
   "metadata": {
    "deletable": false,
    "editable": false,
    "nbgrader": {
     "cell_type": "code",
     "checksum": "8fc9df66c9bc9d22801df2a152599342",
     "grade": true,
     "grade_id": "cell-6fb376c8a0629eee",
     "locked": true,
     "points": 0.5,
     "schema_version": 3,
     "solution": false,
     "task": false
    }
   },
   "outputs": [
    {
     "name": "stdout",
     "output_type": "stream",
     "text": [
      "Your answer:  Supervised\n"
     ]
    }
   ],
   "source": [
    "print('Your answer: ', ANSWER_TYPE_OF_LEARNING)\n",
    "\n",
    "# to answer, you should have selected one of the three options ...\n",
    "assert(ANSWER_TYPE_OF_LEARNING in ('Supervised', 'Unsupervised', 'Reinforcement'))\n"
   ]
  },
  {
   "cell_type": "markdown",
   "metadata": {
    "deletable": false,
    "editable": false,
    "nbgrader": {
     "cell_type": "markdown",
     "checksum": "8a7c25eca005d8f8537dbdd94365a767",
     "grade": false,
     "grade_id": "cell-8de744bfaa4ace02",
     "locked": true,
     "schema_version": 3,
     "solution": false,
     "task": false
    }
   },
   "source": [
    "**Exercise:** \n",
    "Now let's do the same thing with a k-NearestNeighbor (kNN) Regressor Mode. Use k=3, and store the RMSE in `rmse_knn`.\n",
    "\n",
    "*Note: sklearn contains both a kNN regression and a classification model, select the correct model here.*"
   ]
  },
  {
   "cell_type": "code",
   "execution_count": 63,
   "metadata": {
    "deletable": false,
    "nbgrader": {
     "cell_type": "code",
     "checksum": "194d188c45ffd20ff1d1dead8d9e20db",
     "grade": false,
     "grade_id": "cell-bff757f0700fc6ca",
     "locked": false,
     "schema_version": 3,
     "solution": true,
     "task": false
    }
   },
   "outputs": [
    {
     "name": "stderr",
     "output_type": "stream",
     "text": [
      "/Users/harshbhatia/Documents/RO47002/Practicums/env/lib/python3.10/site-packages/sklearn/metrics/_regression.py:492: FutureWarning: 'squared' is deprecated in version 1.4 and will be removed in 1.6. To calculate the root mean squared error, use the function'root_mean_squared_error'.\n",
      "  warnings.warn(\n"
     ]
    },
    {
     "data": {
      "text/plain": [
       "np.float64(7.678798340633015)"
      ]
     },
     "execution_count": 63,
     "metadata": {},
     "output_type": "execute_result"
    }
   ],
   "source": [
    "from sklearn.neighbors import KNeighborsRegressor\n",
    "\n",
    "# Initialize and train the kNN regression model with k=3\n",
    "model_knn = KNeighborsRegressor(n_neighbors=3)\n",
    "model_knn.fit(X, y)\n",
    "\n",
    "# Predict the target values for the original input data using the trained kNN model\n",
    "y_pred_knn = model_knn.predict(X)\n",
    "\n",
    "# Calculate the RMSE for the kNN model's predictions\n",
    "rmse_knn = mean_squared_error(y, y_pred_knn, squared=False)\n",
    "\n",
    "# Output the RMSE\n",
    "rmse_knn"
   ]
  },
  {
   "cell_type": "code",
   "execution_count": 64,
   "metadata": {
    "deletable": false,
    "editable": false,
    "nbgrader": {
     "cell_type": "code",
     "checksum": "ecfb362c34b76edcbb7b2ef8bb073dd1",
     "grade": true,
     "grade_id": "cell-25045b511b2def79",
     "locked": true,
     "points": 0.5,
     "schema_version": 3,
     "solution": false,
     "task": false
    }
   },
   "outputs": [],
   "source": [
    "# Do not remove this cell, we have hidden tests here\n",
    "assert(rmse_knn != None)\n",
    "assert(not isinstance(rmse_knn, list))"
   ]
  },
  {
   "cell_type": "markdown",
   "metadata": {
    "deletable": false,
    "editable": false,
    "nbgrader": {
     "cell_type": "markdown",
     "checksum": "8cc628afd862400688788606922ff4e9",
     "grade": false,
     "grade_id": "cell-828a57b4e5bc2fa1",
     "locked": true,
     "schema_version": 3,
     "solution": false,
     "task": false
    }
   },
   "source": [
    "**Exercise:** \n",
    "Plot `y` as a function of `X`, as well as the corresponding predictions of the linear and kNN model."
   ]
  },
  {
   "cell_type": "code",
   "execution_count": 65,
   "metadata": {
    "deletable": false,
    "nbgrader": {
     "cell_type": "code",
     "checksum": "fd6e8b37e8dc30e041879e57aaa7a73b",
     "grade": true,
     "grade_id": "cell-09e2b66ceaa76f0a",
     "locked": false,
     "points": 0.5,
     "schema_version": 3,
     "solution": true,
     "task": false
    }
   },
   "outputs": [
    {
     "data": {
      "image/png": "[encoded data removed]",
      "text/plain": [
       "<Figure size 1000x600 with 1 Axes>"
      ]
     },
     "metadata": {},
     "output_type": "display_data"
    }
   ],
   "source": [
    "# Plot the true values (y) and the predictions from the linear and kNN models\n",
    "plt.figure(figsize=(10, 6))\n",
    "\n",
    "# Plot the true values of y\n",
    "plt.scatter(X, y, label=\"True Values\", color=\"blue\", alpha=0.5)\n",
    "\n",
    "# Plot the predictions of the linear model\n",
    "plt.plot(X, y_pred_lin, label=\"Linear Regression Predictions\", color=\"red\")\n",
    "\n",
    "# Plot the predictions of the kNN model\n",
    "plt.plot(X, y_pred_knn, label=\"kNN (k=3) Predictions\", color=\"green\")\n",
    "\n",
    "# Labels and legend\n",
    "plt.title(\"True Values vs Model Predictions\")\n",
    "plt.xlabel(\"Joint Angles (1st DOF)\")\n",
    "plt.ylabel(\"Torque (1st DOF)\")\n",
    "plt.legend()\n",
    "plt.grid(True)\n",
    "\n",
    "# Show the plot\n",
    "plt.show()"
   ]
  },
  {
   "cell_type": "markdown",
   "metadata": {},
   "source": [
    "# 12 Lecture 1B - Bad Algorithms & Prior Knowledge\n",
    "The following exercises are based on the content of the lecture 1B."
   ]
  },
  {
   "cell_type": "markdown",
   "metadata": {
    "deletable": false,
    "editable": false,
    "nbgrader": {
     "cell_type": "markdown",
     "checksum": "5edc3cef9b435fd2be9eb0d58033029e",
     "grade": false,
     "grade_id": "cell-6d9404ea9c9e092e",
     "locked": true,
     "schema_version": 3,
     "solution": false,
     "task": false
    }
   },
   "source": [
    "**Q**:Linear regression performs really badly in this example. Give reasons (based on the above plot). Hint: Think about the model structure."
   ]
  },
  {
   "cell_type": "markdown",
   "metadata": {
    "deletable": false,
    "nbgrader": {
     "cell_type": "markdown",
     "checksum": "ee4665464d6d40613930b6317b46ba1b",
     "grade": true,
     "grade_id": "cell-f919de05985c469f",
     "locked": false,
     "points": 1,
     "schema_version": 3,
     "solution": true,
     "task": false
    }
   },
   "source": [
    "The poor performance of linear regression in this example can be attributed to two things:\n",
    "\n",
    "1. **Non-Linearity of the Data**: \n",
    "   The relationship between the joint angles (`X`) and the torques (`y`) is highly non-linear, as shown in the scatter plot. However, a linear regression model assumes a straight-line relationship between the input and output variables. There is a fundamental mismatch, and you can't physically plot a non linear model with a linear model.\n",
    "\n",
    "2. **Lack of Flexibility**:\n",
    "   Linear regression is a very simple model and cannot capture the complexity or the curved nature of the underlying relationship between `X` and `y`. The model is too rigid to adjust to the variations and non-linear behavior shown in the data.\n",
    "\n",
    "In contrast, the k-Nearest Neighbors (kNN) model can follow the non-linear patterns more closely, as it doesn't assume any specific functional form (like a straight line) and instead makes predictions based on local relationships in the data. This flexibility allows kNN to fit the data much better than linear regression in this case."
   ]
  },
  {
   "cell_type": "markdown",
   "metadata": {
    "deletable": false,
    "editable": false,
    "nbgrader": {
     "cell_type": "markdown",
     "checksum": "f6b8dc5b35fc9ca6f779a2fe2a8bcdc0",
     "grade": false,
     "grade_id": "cell-4ec7d6e784d99d3c",
     "locked": true,
     "schema_version": 3,
     "solution": false,
     "task": false
    }
   },
   "source": [
    "**Exercise:** \n",
    "As we'll discuss in the next lectures, feature engineering is often crucial in machine learning. If you look at the plot above, you'll notice that it resembles a cosine. Using this insight, transform the input `X` before training a linear regression model. You should get the RMSE down to about 17.4"
   ]
  },
  {
   "cell_type": "code",
   "execution_count": 66,
   "metadata": {
    "deletable": false,
    "nbgrader": {
     "cell_type": "code",
     "checksum": "60ca01d9f69a686c3b0b263ec19c4bd9",
     "grade": false,
     "grade_id": "cell-dc2ffb793cccd481",
     "locked": false,
     "schema_version": 3,
     "solution": true,
     "task": false
    }
   },
   "outputs": [
    {
     "name": "stderr",
     "output_type": "stream",
     "text": [
      "/Users/harshbhatia/Documents/RO47002/Practicums/env/lib/python3.10/site-packages/sklearn/metrics/_regression.py:492: FutureWarning: 'squared' is deprecated in version 1.4 and will be removed in 1.6. To calculate the root mean squared error, use the function'root_mean_squared_error'.\n",
      "  warnings.warn(\n"
     ]
    },
    {
     "data": {
      "text/plain": [
       "np.float64(17.42871419555081)"
      ]
     },
     "execution_count": 66,
     "metadata": {},
     "output_type": "execute_result"
    }
   ],
   "source": [
    "# Feature engineering: applying a cosine transformation to the input X\n",
    "X_transformed = np.cos(X)\n",
    "\n",
    "# Initialize and train the linear regression model on the transformed input\n",
    "model_lin_eng = LinearRegression()\n",
    "model_lin_eng.fit(X_transformed, y)\n",
    "\n",
    "# Predict the target values using the transformed input\n",
    "y_pred_lin_eng = model_lin_eng.predict(X_transformed)\n",
    "\n",
    "# Calculate the RMSE for the model's predictions with the transformed input\n",
    "rmse_lin_eng = mean_squared_error(y, y_pred_lin_eng, squared=False)\n",
    "\n",
    "# Output the RMSE\n",
    "rmse_lin_eng"
   ]
  },
  {
   "cell_type": "code",
   "execution_count": 67,
   "metadata": {
    "deletable": false,
    "editable": false,
    "nbgrader": {
     "cell_type": "code",
     "checksum": "a3434cecbe052cc16a4e07bcb858c7ee",
     "grade": true,
     "grade_id": "cell-9924b5b58a6e4163",
     "locked": true,
     "points": 1,
     "schema_version": 3,
     "solution": false,
     "task": false
    }
   },
   "outputs": [],
   "source": [
    "assert type(model_lin_eng) == sklearn.linear_model.LinearRegression"
   ]
  },
  {
   "cell_type": "markdown",
   "metadata": {},
   "source": [
    "# 13 Lecture 1C - ML Formalized\n",
    "The following exercises are based on the content of the lecture 1C."
   ]
  },
  {
   "cell_type": "markdown",
   "metadata": {
    "deletable": false,
    "editable": false,
    "nbgrader": {
     "cell_type": "markdown",
     "checksum": "f489bc0460f5405111a8362f7c7d8794",
     "grade": false,
     "grade_id": "cell-60a1ad5e8050b129",
     "locked": true,
     "schema_version": 3,
     "solution": false,
     "task": false
    }
   },
   "source": [
    "**Exercise:** \n",
    "\n",
    "What is the size of input feature space? Store the result in `S_feature`.\n",
    "\n",
    "What is the size of model parameter space? Store the result in `S_model`.\n"
   ]
  },
  {
   "cell_type": "code",
   "execution_count": null,
   "metadata": {
    "deletable": false,
    "nbgrader": {
     "cell_type": "code",
     "checksum": "ac8abab4d66407dda0ffeb93fc2727e2",
     "grade": false,
     "grade_id": "cell-c544a23f7271899b",
     "locked": false,
     "schema_version": 3,
     "solution": true,
     "task": false
    }
   },
   "outputs": [],
   "source": [
    "S_feature = None\n",
    "S_model = None\n",
    "\n",
    "# YOUR CODE HERE\n",
    "raise NotImplementedError()"
   ]
  },
  {
   "cell_type": "code",
   "execution_count": null,
   "metadata": {
    "deletable": false,
    "editable": false,
    "nbgrader": {
     "cell_type": "code",
     "checksum": "7e764f45d154459af43c578b9e061d96",
     "grade": true,
     "grade_id": "cell-9c461089043db92c",
     "locked": true,
     "points": 0.25,
     "schema_version": 3,
     "solution": false,
     "task": false
    }
   },
   "outputs": [],
   "source": [
    "assert type(S_feature) == int\n",
    "assert type(S_model) == int\n"
   ]
  },
  {
   "cell_type": "markdown",
   "metadata": {
    "deletable": false,
    "editable": false,
    "nbgrader": {
     "cell_type": "markdown",
     "checksum": "dbcf0bc1ff8a6658031362fdc0faa080",
     "grade": false,
     "grade_id": "cell-366b4ef48d050e9b",
     "locked": true,
     "schema_version": 3,
     "solution": false,
     "task": false
    }
   },
   "source": [
    "**Q**: Which loss function does linear regression use? Hint: Check the documentation of `sklearn.linear_model.LinearRegression`."
   ]
  },
  {
   "cell_type": "code",
   "execution_count": null,
   "metadata": {
    "deletable": false,
    "nbgrader": {
     "cell_type": "code",
     "checksum": "6844691d7b9e22daf0672fc5417cc38f",
     "grade": false,
     "grade_id": "cell-ba1a9a1a8614143a",
     "locked": false,
     "schema_version": 3,
     "solution": true,
     "task": false
    }
   },
   "outputs": [],
   "source": [
    "# answer by uncommenting only the correct option from this block below\n",
    "ANSWER_TYPE_OF_LEARNING = 'no answer given yet ...'\n",
    "#ANSWER_TYPE_OF_LEARNING = 'Least absolute deviations'\n",
    "#ANSWER_TYPE_OF_LEARNING = 'Residual sum of squares'\n",
    "#ANSWER_TYPE_OF_LEARNING = 'Cross-entropy'\n",
    "\n",
    "# YOUR CODE HERE\n",
    "raise NotImplementedError()"
   ]
  },
  {
   "cell_type": "code",
   "execution_count": null,
   "metadata": {
    "deletable": false,
    "editable": false,
    "nbgrader": {
     "cell_type": "code",
     "checksum": "c9761a70b3b2fdd71ddb89921bb48cd0",
     "grade": true,
     "grade_id": "cell-9a8db6cd145de579",
     "locked": true,
     "points": 0.25,
     "schema_version": 3,
     "solution": false,
     "task": false
    }
   },
   "outputs": [],
   "source": [
    "print('Your answer: ', ANSWER_TYPE_OF_LEARNING)\n",
    "\n",
    "# to answer, you should have selected one of the three options ...\n",
    "assert(ANSWER_TYPE_OF_LEARNING in ('Least absolute deviations', 'Residual sum of squares', 'Cross-entropy'))\n"
   ]
  },
  {
   "cell_type": "markdown",
   "metadata": {
    "deletable": false,
    "editable": false,
    "nbgrader": {
     "cell_type": "markdown",
     "checksum": "a729e91bda30ed534ce9afc6c23717ac",
     "grade": false,
     "grade_id": "cell-644507502b97527e",
     "locked": true,
     "schema_version": 3,
     "solution": false,
     "task": false
    }
   },
   "source": [
    "**Exercise:** \n",
    "\n",
    "In principle, training a linear regression model with a correct loss function should minimize the RMSE. Now, manually change model parameters and make a prediction. Verify that the `RMSE` gets worse."
   ]
  },
  {
   "cell_type": "code",
   "execution_count": null,
   "metadata": {
    "deletable": false,
    "nbgrader": {
     "cell_type": "code",
     "checksum": "bd06aa44d60ae1a31214368383a857e3",
     "grade": false,
     "grade_id": "cell-c0d8fc8b17dc8e70",
     "locked": false,
     "schema_version": 3,
     "solution": true,
     "task": false
    }
   },
   "outputs": [],
   "source": [
    "RMSE_original = None # The RMSE you get from the trained model\n",
    "\n",
    "model_lin_eng.coef_ = None \n",
    "model_lin_eng.intercept_ = None\n",
    "\n",
    "RMSE = None # The RMSE you get from the model with modified parameters\n",
    "\n",
    "# YOUR CODE HERE\n",
    "raise NotImplementedError()"
   ]
  },
  {
   "cell_type": "code",
   "execution_count": null,
   "metadata": {
    "deletable": false,
    "editable": false,
    "nbgrader": {
     "cell_type": "code",
     "checksum": "202573248cb9f12e26b482368f6d4bdf",
     "grade": true,
     "grade_id": "cell-12bae573b1392a86",
     "locked": true,
     "points": 0.25,
     "schema_version": 3,
     "solution": false,
     "task": false
    }
   },
   "outputs": [],
   "source": [
    "print('The original RMSE is: ', RMSE_original)\n",
    "print('The new RMSE is: ', RMSE)\n"
   ]
  },
  {
   "cell_type": "markdown",
   "metadata": {
    "deletable": false,
    "editable": false,
    "nbgrader": {
     "cell_type": "markdown",
     "checksum": "ed42a50fa77d7f3d890bd480bbde1369",
     "grade": false,
     "grade_id": "cell-5e170b289dced727",
     "locked": true,
     "schema_version": 3,
     "solution": false,
     "task": false
    }
   },
   "source": [
    "**Acknowledgements:** This notebook is inspired by <em>Python Numpy [Tutorial](https://cs231n.github.io/python-numpy-tutorial/)</em> from Stanford course CS231n."
   ]
  }
 ],
 "metadata": {
  "kernelspec": {
   "display_name": "Python 3 (ipykernel)",
   "language": "python",
   "name": "python3"
  },
  "language_info": {
   "codemirror_mode": {
    "name": "ipython",
    "version": 3
   },
   "file_extension": ".py",
   "mimetype": "text/x-python",
   "name": "python",
   "nbconvert_exporter": "python",
   "pygments_lexer": "ipython3",
   "version": "3.10.9"
  }
 },
 "nbformat": 4,
 "nbformat_minor": 4
}
